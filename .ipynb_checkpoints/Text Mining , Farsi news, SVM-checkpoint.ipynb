{
 "cells": [
  {
   "cell_type": "code",
   "execution_count": 57,
   "id": "b28c665f",
   "metadata": {},
   "outputs": [],
   "source": [
    "import pandas as pd\n",
    "import numpy as np\n",
    "import hazm\n",
    "import seaborn as sns\n",
    "import matplotlib.pyplot as plt\n",
    "from  sklearn.feature_extraction.text import TfidfVectorizer\n",
    "from sklearn.preprocessing import LabelEncoder\n",
    "from sklearn.model_selection import train_test_split, GridSearchCV, cross_validate\n",
    "from sklearn.metrics import classification_report, confusion_matrix\n",
    "import nltk \n",
    "from nltk.corpus import stopwords\n",
    "from sklearn.pipeline import Pipeline\n",
    "from sklearn.svm import SVC\n",
    "from sklearn.neighbors import KNeighborsClassifier\n",
    "from sklearn.ensemble import RandomForestClassifier\n",
    "from sklearn.tree import DecisionTreeClassifier"
   ]
  },
  {
   "cell_type": "markdown",
   "id": "e8394850",
   "metadata": {},
   "source": [
    "# EDA"
   ]
  },
  {
   "cell_type": "code",
   "execution_count": 29,
   "id": "0e6c8524",
   "metadata": {},
   "outputs": [
    {
     "data": {
      "text/html": [
       "<div>\n",
       "<style scoped>\n",
       "    .dataframe tbody tr th:only-of-type {\n",
       "        vertical-align: middle;\n",
       "    }\n",
       "\n",
       "    .dataframe tbody tr th {\n",
       "        vertical-align: top;\n",
       "    }\n",
       "\n",
       "    .dataframe thead th {\n",
       "        text-align: right;\n",
       "    }\n",
       "</style>\n",
       "<table border=\"1\" class=\"dataframe\">\n",
       "  <thead>\n",
       "    <tr style=\"text-align: right;\">\n",
       "      <th></th>\n",
       "      <th>NewsID</th>\n",
       "      <th>Title</th>\n",
       "      <th>Body</th>\n",
       "      <th>Date</th>\n",
       "      <th>Time</th>\n",
       "      <th>Category</th>\n",
       "      <th>Category2</th>\n",
       "    </tr>\n",
       "  </thead>\n",
       "  <tbody>\n",
       "    <tr>\n",
       "      <th>0</th>\n",
       "      <td>843656</td>\n",
       "      <td>\\nوزير علوم درجمع استادان نمونه: سن بازنشستگي ...</td>\n",
       "      <td>\\nوزير علوم در جمع استادان نمونه كشور گفت: از ...</td>\n",
       "      <td>\\n138/5//09</td>\n",
       "      <td>\\n0:9::18</td>\n",
       "      <td>\\nآموزشي-</td>\n",
       "      <td>\\nآموزشي</td>\n",
       "    </tr>\n",
       "    <tr>\n",
       "      <th>1</th>\n",
       "      <td>837144</td>\n",
       "      <td>\\nگردهمايي دانش‌آموختگان موسسه آموزش عالي سوره...</td>\n",
       "      <td>\\nبه گزارش سرويس صنفي آموزشي خبرگزاري دانشجويا...</td>\n",
       "      <td>\\n138/5//09</td>\n",
       "      <td>\\n1:4::11</td>\n",
       "      <td>\\nآموزشي-</td>\n",
       "      <td>\\nآموزشي</td>\n",
       "    </tr>\n",
       "    <tr>\n",
       "      <th>2</th>\n",
       "      <td>436862</td>\n",
       "      <td>\\nنتايج آزمون دوره‌هاي فراگير دانشگاه پيام‌نور...</td>\n",
       "      <td>\\nنتايج آزمون دوره‌هاي فراگير مقاطع كارشناسي و...</td>\n",
       "      <td>\\n138/3//07</td>\n",
       "      <td>\\n1:0::03</td>\n",
       "      <td>\\nآموزشي-</td>\n",
       "      <td>\\nآموزشي</td>\n",
       "    </tr>\n",
       "    <tr>\n",
       "      <th>3</th>\n",
       "      <td>227781</td>\n",
       "      <td>\\nهمايش يكروزه آسيب شناسي مفهوم روابط عمومي در...</td>\n",
       "      <td>\\n</td>\n",
       "      <td>\\n138/2//02</td>\n",
       "      <td>\\n1:3::42</td>\n",
       "      <td>\\nاجتماعي-خانواده-</td>\n",
       "      <td>\\nاجتماعي</td>\n",
       "    </tr>\n",
       "    <tr>\n",
       "      <th>4</th>\n",
       "      <td>174187</td>\n",
       "      <td>\\nوضعيت اقتصادي و ميزان تحصيلات والدين از مهمت...</td>\n",
       "      <td>\\nمحمدتقي علوي يزدي، مجري اين طرح پژوهشي در اي...</td>\n",
       "      <td>\\n138/1//08</td>\n",
       "      <td>\\n1:1::49</td>\n",
       "      <td>\\nآموزشي-</td>\n",
       "      <td>\\nآموزشي</td>\n",
       "    </tr>\n",
       "    <tr>\n",
       "      <th>...</th>\n",
       "      <td>...</td>\n",
       "      <td>...</td>\n",
       "      <td>...</td>\n",
       "      <td>...</td>\n",
       "      <td>...</td>\n",
       "      <td>...</td>\n",
       "      <td>...</td>\n",
       "    </tr>\n",
       "    <tr>\n",
       "      <th>10994</th>\n",
       "      <td>252520</td>\n",
       "      <td>\\n/گزارش/ «حقي» حق خود را با طلا گرفت</td>\n",
       "      <td>\\nبه گزارش ايسنا، در كوران مسابقات دوچرخه سوار...</td>\n",
       "      <td>\\n138/2//04</td>\n",
       "      <td>\\n1:3::33</td>\n",
       "      <td>\\nقهرماني-همگاني-</td>\n",
       "      <td>\\nورزشي</td>\n",
       "    </tr>\n",
       "    <tr>\n",
       "      <th>10995</th>\n",
       "      <td>899807</td>\n",
       "      <td>\\nمدير تيم‌هاي ملي كشتي فرنگي: نفرات اول تا سو...</td>\n",
       "      <td>\\nمحمد دليريان در گفت‌وگو با خبرنگار كشتي خبرگ...</td>\n",
       "      <td>\\n138/6//01</td>\n",
       "      <td>\\n1:2::42</td>\n",
       "      <td>\\nورزشي-كشتي-</td>\n",
       "      <td>\\nورزشي</td>\n",
       "    </tr>\n",
       "    <tr>\n",
       "      <th>10996</th>\n",
       "      <td>432925</td>\n",
       "      <td>\\nتساوي چلسي و ادامه صدرنشيني آرسنال تساوي اشت...</td>\n",
       "      <td>\\nبه گزارش خبرگزاري دانشجويان ايران (ايسنا)، د...</td>\n",
       "      <td>\\n138/3//06</td>\n",
       "      <td>\\n1:0::39</td>\n",
       "      <td>\\nورزشي-فوتبال-</td>\n",
       "      <td>\\nورزشي</td>\n",
       "    </tr>\n",
       "    <tr>\n",
       "      <th>10997</th>\n",
       "      <td>736914</td>\n",
       "      <td>\\nشكست ايران از پرتغال در آيينه‌ي خبرگزاري‌ها:...</td>\n",
       "      <td>\\nبه گزارش خبرگزاري دانشجويان ايران (ايسنا)، ا...</td>\n",
       "      <td>\\n138/5//03</td>\n",
       "      <td>\\n2:0::13</td>\n",
       "      <td>\\nجام جهاني 2010-</td>\n",
       "      <td>\\nورزشي</td>\n",
       "    </tr>\n",
       "    <tr>\n",
       "      <th>10998</th>\n",
       "      <td>681439</td>\n",
       "      <td>\\nهادي شكوري: صدر جدول را تصاحب كنيم ديگر آن ر...</td>\n",
       "      <td>\\nهادي شكوري در خصوص ديدار تيمش مقابل راه‌آهن ...</td>\n",
       "      <td>\\n138/4//12</td>\n",
       "      <td>\\n1:2::41</td>\n",
       "      <td>\\nورزشي-فوتبال-</td>\n",
       "      <td>\\nورزشي</td>\n",
       "    </tr>\n",
       "  </tbody>\n",
       "</table>\n",
       "<p>10999 rows × 7 columns</p>\n",
       "</div>"
      ],
      "text/plain": [
       "       NewsID                                              Title  \\\n",
       "0      843656  \\nوزير علوم درجمع استادان نمونه: سن بازنشستگي ...   \n",
       "1      837144  \\nگردهمايي دانش‌آموختگان موسسه آموزش عالي سوره...   \n",
       "2      436862  \\nنتايج آزمون دوره‌هاي فراگير دانشگاه پيام‌نور...   \n",
       "3      227781  \\nهمايش يكروزه آسيب شناسي مفهوم روابط عمومي در...   \n",
       "4      174187  \\nوضعيت اقتصادي و ميزان تحصيلات والدين از مهمت...   \n",
       "...       ...                                                ...   \n",
       "10994  252520              \\n/گزارش/ «حقي» حق خود را با طلا گرفت   \n",
       "10995  899807  \\nمدير تيم‌هاي ملي كشتي فرنگي: نفرات اول تا سو...   \n",
       "10996  432925  \\nتساوي چلسي و ادامه صدرنشيني آرسنال تساوي اشت...   \n",
       "10997  736914  \\nشكست ايران از پرتغال در آيينه‌ي خبرگزاري‌ها:...   \n",
       "10998  681439  \\nهادي شكوري: صدر جدول را تصاحب كنيم ديگر آن ر...   \n",
       "\n",
       "                                                    Body         Date  \\\n",
       "0      \\nوزير علوم در جمع استادان نمونه كشور گفت: از ...  \\n138/5//09   \n",
       "1      \\nبه گزارش سرويس صنفي آموزشي خبرگزاري دانشجويا...  \\n138/5//09   \n",
       "2      \\nنتايج آزمون دوره‌هاي فراگير مقاطع كارشناسي و...  \\n138/3//07   \n",
       "3                                                     \\n  \\n138/2//02   \n",
       "4      \\nمحمدتقي علوي يزدي، مجري اين طرح پژوهشي در اي...  \\n138/1//08   \n",
       "...                                                  ...          ...   \n",
       "10994  \\nبه گزارش ايسنا، در كوران مسابقات دوچرخه سوار...  \\n138/2//04   \n",
       "10995  \\nمحمد دليريان در گفت‌وگو با خبرنگار كشتي خبرگ...  \\n138/6//01   \n",
       "10996  \\nبه گزارش خبرگزاري دانشجويان ايران (ايسنا)، د...  \\n138/3//06   \n",
       "10997  \\nبه گزارش خبرگزاري دانشجويان ايران (ايسنا)، ا...  \\n138/5//03   \n",
       "10998  \\nهادي شكوري در خصوص ديدار تيمش مقابل راه‌آهن ...  \\n138/4//12   \n",
       "\n",
       "            Time            Category  Category2  \n",
       "0      \\n0:9::18           \\nآموزشي-   \\nآموزشي  \n",
       "1      \\n1:4::11           \\nآموزشي-   \\nآموزشي  \n",
       "2      \\n1:0::03           \\nآموزشي-   \\nآموزشي  \n",
       "3      \\n1:3::42  \\nاجتماعي-خانواده-  \\nاجتماعي  \n",
       "4      \\n1:1::49           \\nآموزشي-   \\nآموزشي  \n",
       "...          ...                 ...        ...  \n",
       "10994  \\n1:3::33   \\nقهرماني-همگاني-    \\nورزشي  \n",
       "10995  \\n1:2::42       \\nورزشي-كشتي-    \\nورزشي  \n",
       "10996  \\n1:0::39     \\nورزشي-فوتبال-    \\nورزشي  \n",
       "10997  \\n2:0::13   \\nجام جهاني 2010-    \\nورزشي  \n",
       "10998  \\n1:2::41     \\nورزشي-فوتبال-    \\nورزشي  \n",
       "\n",
       "[10999 rows x 7 columns]"
      ]
     },
     "execution_count": 29,
     "metadata": {},
     "output_type": "execute_result"
    }
   ],
   "source": [
    "data = pd.read_csv('per.csv')\n",
    "data"
   ]
  },
  {
   "cell_type": "code",
   "execution_count": 25,
   "id": "d00e2ca5",
   "metadata": {},
   "outputs": [
    {
     "name": "stdout",
     "output_type": "stream",
     "text": [
      "<class 'pandas.core.frame.DataFrame'>\n",
      "Int64Index: 10999 entries, 0 to 10998\n",
      "Data columns (total 7 columns):\n",
      " #   Column     Non-Null Count  Dtype \n",
      "---  ------     --------------  ----- \n",
      " 0   NewsID     10999 non-null  int64 \n",
      " 1   Title      10999 non-null  object\n",
      " 2   Body       10999 non-null  object\n",
      " 3   Date       10999 non-null  object\n",
      " 4   Time       10999 non-null  object\n",
      " 5   Category   10999 non-null  object\n",
      " 6   Category2  10999 non-null  object\n",
      "dtypes: int64(1), object(6)\n",
      "memory usage: 687.4+ KB\n"
     ]
    }
   ],
   "source": [
    "data.info()"
   ]
  },
  {
   "cell_type": "code",
   "execution_count": 5,
   "id": "61b8ebe4",
   "metadata": {},
   "outputs": [
    {
     "data": {
      "text/plain": [
       "NewsID       0\n",
       "Title        0\n",
       "Body         0\n",
       "Date         0\n",
       "Time         0\n",
       "Category     0\n",
       "Category2    0\n",
       "dtype: int64"
      ]
     },
     "execution_count": 5,
     "metadata": {},
     "output_type": "execute_result"
    }
   ],
   "source": [
    "data.isnull().sum()"
   ]
  },
  {
   "cell_type": "code",
   "execution_count": 30,
   "id": "37a3f647",
   "metadata": {},
   "outputs": [
    {
     "data": {
      "text/plain": [
       "array(['\\nآموزشي', '\\nاجتماعي', '\\nتاريخي', '\\nاقتصادي', '\\nبهداشتي',\n",
       "       '\\nعلمي', '\\nسياسي', '\\nفرهنگي', '\\nفقه و حقوق', '\\nمذهبي',\n",
       "       '\\nورزشي'], dtype=object)"
      ]
     },
     "execution_count": 30,
     "metadata": {},
     "output_type": "execute_result"
    }
   ],
   "source": [
    "data.Category2.unique()"
   ]
  },
  {
   "cell_type": "code",
   "execution_count": 33,
   "id": "2ed286cb",
   "metadata": {},
   "outputs": [
    {
     "data": {
      "text/plain": [
       "\\nآموزشي        1000\n",
       "\\nاجتماعي       1000\n",
       "\\nاقتصادي       1000\n",
       "\\nبهداشتي       1000\n",
       "\\nعلمي          1000\n",
       "\\nسياسي         1000\n",
       "\\nفرهنگي        1000\n",
       "\\nفقه و حقوق    1000\n",
       "\\nمذهبي         1000\n",
       "\\nورزشي         1000\n",
       "\\nتاريخي         999\n",
       "Name: Category2, dtype: int64"
      ]
     },
     "execution_count": 33,
     "metadata": {},
     "output_type": "execute_result"
    }
   ],
   "source": [
    "data.Category2.value_counts()"
   ]
  },
  {
   "cell_type": "markdown",
   "id": "9cef68b6",
   "metadata": {},
   "source": [
    "# Preprocessing"
   ]
  },
  {
   "cell_type": "code",
   "execution_count": 42,
   "id": "1397a0a6",
   "metadata": {
    "scrolled": true
   },
   "outputs": [],
   "source": [
    "with open('stopwords-Copy1.txt', 'r', encoding=\"utf8\") as words:\n",
    "    stopwords1 = words.readlines()\n",
    "stopwords = set(stopwords.words('english'))\n",
    "stopwords1 = [x.replace('\\n', '') for x in stopwords1]\n",
    "stopwords1 = [x.replace(\"\\u200c\", '') for x in stopwords1]\n",
    "stopwords1.extend(stopwords)\n"
   ]
  },
  {
   "cell_type": "code",
   "execution_count": 43,
   "id": "7c93739a",
   "metadata": {},
   "outputs": [
    {
     "data": {
      "text/plain": [
       "'رفت#رو'"
      ]
     },
     "execution_count": 43,
     "metadata": {},
     "output_type": "execute_result"
    }
   ],
   "source": [
    "lem  = hazm.Lemmatizer()\n",
    "lem.lemmatize('رفتیم')"
   ]
  },
  {
   "cell_type": "code",
   "execution_count": 44,
   "id": "15d24282",
   "metadata": {},
   "outputs": [
    {
     "data": {
      "text/plain": [
       "'رفت'"
      ]
     },
     "execution_count": 44,
     "metadata": {},
     "output_type": "execute_result"
    }
   ],
   "source": [
    "stem=hazm.Stemmer() \n",
    "stem.stem('رفتیم')"
   ]
  },
  {
   "cell_type": "markdown",
   "id": "54e2b330",
   "metadata": {},
   "source": [
    "Here we preprocessed our farsi news with HAZM library which has a lot of benefits and help us to clean data"
   ]
  },
  {
   "cell_type": "code",
   "execution_count": 45,
   "id": "47c21e68",
   "metadata": {},
   "outputs": [],
   "source": [
    "dataset = pd.DataFrame(columns=('Title Body', 'Category'))\n",
    "\n",
    "for index, row in data.iterrows():\n",
    "    title_body = row['Title'] + '  ' + row['Body']\n",
    "    title_body_tokenized = hazm.word_tokenize(title_body)\n",
    "    title_body_tokenized_filtered = [x for x in title_body_tokenized if not x in stopwords1]\n",
    "    title_body_tokenized_filtered_lem = [lem.lemmatize(x).replace('#', ' ') for x in title_body_tokenized_filtered ] \n",
    "    title_body_tokenized_filtered_stem =[stem.stem(x).replace('#', ' ') for x in title_body_tokenized_filtered]\n",
    "    dataset.loc[index] = {\n",
    "          'Title Body' : ' ' .join( title_body_tokenized_filtered_lem) + '  ' + '  ' .join(title_body_tokenized_filtered_stem)\n",
    "       , 'Category' : row['Category2'].replace('\\n', ' ')\n",
    "    }\n",
    "      \n"
   ]
  },
  {
   "cell_type": "code",
   "execution_count": 46,
   "id": "33205ff8",
   "metadata": {},
   "outputs": [
    {
     "data": {
      "text/html": [
       "<div>\n",
       "<style scoped>\n",
       "    .dataframe tbody tr th:only-of-type {\n",
       "        vertical-align: middle;\n",
       "    }\n",
       "\n",
       "    .dataframe tbody tr th {\n",
       "        vertical-align: top;\n",
       "    }\n",
       "\n",
       "    .dataframe thead th {\n",
       "        text-align: right;\n",
       "    }\n",
       "</style>\n",
       "<table border=\"1\" class=\"dataframe\">\n",
       "  <thead>\n",
       "    <tr style=\"text-align: right;\">\n",
       "      <th></th>\n",
       "      <th>Title Body</th>\n",
       "      <th>Category</th>\n",
       "    </tr>\n",
       "  </thead>\n",
       "  <tbody>\n",
       "    <tr>\n",
       "      <th>0</th>\n",
       "      <td>وزير علوم درجمع استاد نمونه سن بازنشستگي استاد...</td>\n",
       "      <td>آموزشي</td>\n",
       "    </tr>\n",
       "    <tr>\n",
       "      <th>1</th>\n",
       "      <td>گردهمايي دانش‌آموختگان موسسه آموزش عالي سوره ب...</td>\n",
       "      <td>آموزشي</td>\n",
       "    </tr>\n",
       "    <tr>\n",
       "      <th>2</th>\n",
       "      <td>نتايج آزمون دوره‌هاي فراگير دانشگاه پيام‌نور ن...</td>\n",
       "      <td>آموزشي</td>\n",
       "    </tr>\n",
       "    <tr>\n",
       "      <th>3</th>\n",
       "      <td>همايش يكروزه آسيب شناسي مفهوم روابط عمومي بابل...</td>\n",
       "      <td>اجتماعي</td>\n",
       "    </tr>\n",
       "    <tr>\n",
       "      <th>4</th>\n",
       "      <td>وضعيت اقتصادي ميزان تحصيلات والدين مهمترين عوا...</td>\n",
       "      <td>آموزشي</td>\n",
       "    </tr>\n",
       "    <tr>\n",
       "      <th>...</th>\n",
       "      <td>...</td>\n",
       "      <td>...</td>\n",
       "    </tr>\n",
       "    <tr>\n",
       "      <th>10994</th>\n",
       "      <td>/گزارش/ حقي طلا گزارش ايسنا كوران مسابقات دوچر...</td>\n",
       "      <td>ورزشي</td>\n",
       "    </tr>\n",
       "    <tr>\n",
       "      <th>10995</th>\n",
       "      <td>مدير تيم‌هاي ملي كشتي فرنگي نفرات قهرماني كشور...</td>\n",
       "      <td>ورزشي</td>\n",
       "    </tr>\n",
       "    <tr>\n",
       "      <th>10996</th>\n",
       "      <td>تساوي چلسي ادامه صدرنشيني آرسنال تساوي اشتوتگا...</td>\n",
       "      <td>ورزشي</td>\n",
       "    </tr>\n",
       "    <tr>\n",
       "      <th>10997</th>\n",
       "      <td>شكست ايران پرتغال آيينه‌ي خبرگزاري‌ها دويچه‌ول...</td>\n",
       "      <td>ورزشي</td>\n",
       "    </tr>\n",
       "    <tr>\n",
       "      <th>10998</th>\n",
       "      <td>هادي شكوري صدر جدول تصاحب كنيم ديگر دست نخواهي...</td>\n",
       "      <td>ورزشي</td>\n",
       "    </tr>\n",
       "  </tbody>\n",
       "</table>\n",
       "<p>10999 rows × 2 columns</p>\n",
       "</div>"
      ],
      "text/plain": [
       "                                              Title Body  Category\n",
       "0      وزير علوم درجمع استاد نمونه سن بازنشستگي استاد...    آموزشي\n",
       "1      گردهمايي دانش‌آموختگان موسسه آموزش عالي سوره ب...    آموزشي\n",
       "2      نتايج آزمون دوره‌هاي فراگير دانشگاه پيام‌نور ن...    آموزشي\n",
       "3      همايش يكروزه آسيب شناسي مفهوم روابط عمومي بابل...   اجتماعي\n",
       "4      وضعيت اقتصادي ميزان تحصيلات والدين مهمترين عوا...    آموزشي\n",
       "...                                                  ...       ...\n",
       "10994  /گزارش/ حقي طلا گزارش ايسنا كوران مسابقات دوچر...     ورزشي\n",
       "10995  مدير تيم‌هاي ملي كشتي فرنگي نفرات قهرماني كشور...     ورزشي\n",
       "10996  تساوي چلسي ادامه صدرنشيني آرسنال تساوي اشتوتگا...     ورزشي\n",
       "10997  شكست ايران پرتغال آيينه‌ي خبرگزاري‌ها دويچه‌ول...     ورزشي\n",
       "10998  هادي شكوري صدر جدول تصاحب كنيم ديگر دست نخواهي...     ورزشي\n",
       "\n",
       "[10999 rows x 2 columns]"
      ]
     },
     "execution_count": 46,
     "metadata": {},
     "output_type": "execute_result"
    }
   ],
   "source": [
    "dataset"
   ]
  },
  {
   "cell_type": "markdown",
   "id": "f7eabe90",
   "metadata": {},
   "source": [
    "# Feature Extraction"
   ]
  },
  {
   "cell_type": "code",
   "execution_count": 54,
   "id": "5250a8d2",
   "metadata": {},
   "outputs": [
    {
     "data": {
      "text/plain": [
       "array([ 0,  0,  0, ..., 10, 10, 10])"
      ]
     },
     "execution_count": 54,
     "metadata": {},
     "output_type": "execute_result"
    }
   ],
   "source": [
    "X = dataset['Title Body']\n",
    "Y = dataset['Category']\n",
    "Y  = dataset['Category']\n",
    "lb = LabelEncoder()\n",
    "Y = lb.fit_transform(Y)\n",
    "Y"
   ]
  },
  {
   "cell_type": "code",
   "execution_count": 56,
   "id": "dd54330e",
   "metadata": {},
   "outputs": [
    {
     "name": "stdout",
     "output_type": "stream",
     "text": [
      "(10999,)\n",
      "(10999,)\n"
     ]
    }
   ],
   "source": [
    "print(X.shape)\n",
    "print(Y.shape)"
   ]
  },
  {
   "cell_type": "code",
   "execution_count": null,
   "id": "ea161481",
   "metadata": {},
   "outputs": [],
   "source": [
    "Vectorizer= TfidfVectorizer(ngram_range=(1,1))\n",
    "Vectorizer.fit(dataset['Title Body'])"
   ]
  },
  {
   "cell_type": "code",
   "execution_count": 18,
   "id": "51e900aa",
   "metadata": {},
   "outputs": [],
   "source": [
    "X = Vectorizer.transform(dataset['Title Body'])"
   ]
  },
  {
   "cell_type": "code",
   "execution_count": 59,
   "id": "3959c96f",
   "metadata": {},
   "outputs": [],
   "source": [
    "xtrain, xtest, ytrain, ytest =train_test_split(X , Y, test_size=0.25)"
   ]
  },
  {
   "cell_type": "code",
   "execution_count": 51,
   "id": "b3d98d27",
   "metadata": {},
   "outputs": [],
   "source": [
    "pipeline = Pipeline([\n",
    "    'classifier', SVC()\n",
    "])"
   ]
  },
  {
   "cell_type": "code",
   "execution_count": null,
   "id": "1558579d",
   "metadata": {},
   "outputs": [],
   "source": [
    "clf = []\n",
    "clf.append(RandomForestClassifier())\n",
    "clf.append(KNeighborsClassifier())\n",
    "clf.append(DecisionTreeClassifier())\n",
    "clf.append(SVC())\n",
    "for classifiers in clf:\n",
    "    pipeline.set_params(classifier = classifiers)\n",
    "    scores = cross_validate(pipeline, xtrain, ytrain)\n",
    "    for key, value in scores.items():\n",
    "        print(key, 'mean', value.mean())"
   ]
  },
  {
   "cell_type": "code",
   "execution_count": 17,
   "id": "201ac292",
   "metadata": {},
   "outputs": [
    {
     "data": {
      "text/plain": [
       "TfidfVectorizer()"
      ]
     },
     "execution_count": 17,
     "metadata": {},
     "output_type": "execute_result"
    }
   ],
   "source": []
  },
  {
   "cell_type": "code",
   "execution_count": 19,
   "id": "96a73267",
   "metadata": {},
   "outputs": [
    {
     "data": {
      "text/plain": [
       "array([' آموزشي', ' تاريخي', ' اقتصادي', ' بهداشتي', ' علمي', ' سياسي',\n",
       "       ' فرهنگي', ' فقه و حقوق', ' مذهبي', ' ورزشي'], dtype=object)"
      ]
     },
     "execution_count": 19,
     "metadata": {},
     "output_type": "execute_result"
    }
   ],
   "source": [
    "dataset['Category'].unique()"
   ]
  },
  {
   "cell_type": "code",
   "execution_count": 20,
   "id": "750b25c6",
   "metadata": {},
   "outputs": [
    {
     "data": {
      "text/plain": [
       "array([0, 0, 0, ..., 9, 9, 9])"
      ]
     },
     "execution_count": 20,
     "metadata": {},
     "output_type": "execute_result"
    }
   ],
   "source": [
    "y  = dataset['Category']\n",
    "lb = LabelEncoder()\n",
    "y = lb.fit_transform(y)\n",
    "y"
   ]
  },
  {
   "cell_type": "markdown",
   "id": "872d636a",
   "metadata": {},
   "source": [
    "# Classification"
   ]
  },
  {
   "cell_type": "code",
   "execution_count": 22,
   "id": "fdbc92b0",
   "metadata": {},
   "outputs": [],
   "source": []
  },
  {
   "cell_type": "code",
   "execution_count": 28,
   "id": "99a554a1",
   "metadata": {},
   "outputs": [],
   "source": [
    "svc = SVC(random_state=1414)"
   ]
  },
  {
   "cell_type": "code",
   "execution_count": 30,
   "id": "e4808b30",
   "metadata": {},
   "outputs": [
    {
     "name": "stdout",
     "output_type": "stream",
     "text": [
      "Fitting 5 folds for each of 4 candidates, totalling 20 fits\n",
      "[CV 1/5; 1/4] START C=1, kernel=rbf.............................................\n",
      "[CV 1/5; 1/4] END ..............C=1, kernel=rbf;, score=0.887 total time= 1.3min\n",
      "[CV 2/5; 1/4] START C=1, kernel=rbf.............................................\n",
      "[CV 2/5; 1/4] END ..............C=1, kernel=rbf;, score=0.888 total time= 1.2min\n",
      "[CV 3/5; 1/4] START C=1, kernel=rbf.............................................\n",
      "[CV 3/5; 1/4] END ..............C=1, kernel=rbf;, score=0.861 total time= 1.3min\n",
      "[CV 4/5; 1/4] START C=1, kernel=rbf.............................................\n",
      "[CV 4/5; 1/4] END ..............C=1, kernel=rbf;, score=0.875 total time= 1.3min\n",
      "[CV 5/5; 1/4] START C=1, kernel=rbf.............................................\n",
      "[CV 5/5; 1/4] END ..............C=1, kernel=rbf;, score=0.873 total time= 1.2min\n",
      "[CV 1/5; 2/4] START C=1, kernel=linear..........................................\n",
      "[CV 1/5; 2/4] END ...........C=1, kernel=linear;, score=0.893 total time=  40.1s\n",
      "[CV 2/5; 2/4] START C=1, kernel=linear..........................................\n",
      "[CV 2/5; 2/4] END ...........C=1, kernel=linear;, score=0.891 total time=  39.7s\n",
      "[CV 3/5; 2/4] START C=1, kernel=linear..........................................\n",
      "[CV 3/5; 2/4] END ...........C=1, kernel=linear;, score=0.871 total time=  39.3s\n",
      "[CV 4/5; 2/4] START C=1, kernel=linear..........................................\n",
      "[CV 4/5; 2/4] END ...........C=1, kernel=linear;, score=0.889 total time=  40.4s\n",
      "[CV 5/5; 2/4] START C=1, kernel=linear..........................................\n",
      "[CV 5/5; 2/4] END ...........C=1, kernel=linear;, score=0.881 total time=  39.8s\n",
      "[CV 1/5; 3/4] START C=2, kernel=rbf.............................................\n",
      "[CV 1/5; 3/4] END ..............C=2, kernel=rbf;, score=0.894 total time= 1.3min\n",
      "[CV 2/5; 3/4] START C=2, kernel=rbf.............................................\n",
      "[CV 2/5; 3/4] END ..............C=2, kernel=rbf;, score=0.893 total time= 1.3min\n",
      "[CV 3/5; 3/4] START C=2, kernel=rbf.............................................\n",
      "[CV 3/5; 3/4] END ..............C=2, kernel=rbf;, score=0.865 total time= 1.3min\n",
      "[CV 4/5; 3/4] START C=2, kernel=rbf.............................................\n",
      "[CV 4/5; 3/4] END ..............C=2, kernel=rbf;, score=0.875 total time= 1.3min\n",
      "[CV 5/5; 3/4] START C=2, kernel=rbf.............................................\n",
      "[CV 5/5; 3/4] END ..............C=2, kernel=rbf;, score=0.873 total time= 1.3min\n",
      "[CV 1/5; 4/4] START C=2, kernel=linear..........................................\n",
      "[CV 1/5; 4/4] END ...........C=2, kernel=linear;, score=0.895 total time=  42.0s\n",
      "[CV 2/5; 4/4] START C=2, kernel=linear..........................................\n",
      "[CV 2/5; 4/4] END ...........C=2, kernel=linear;, score=0.890 total time=  42.9s\n",
      "[CV 3/5; 4/4] START C=2, kernel=linear..........................................\n",
      "[CV 3/5; 4/4] END ...........C=2, kernel=linear;, score=0.867 total time=  42.2s\n",
      "[CV 4/5; 4/4] START C=2, kernel=linear..........................................\n",
      "[CV 4/5; 4/4] END ...........C=2, kernel=linear;, score=0.891 total time=  43.3s\n",
      "[CV 5/5; 4/4] START C=2, kernel=linear..........................................\n",
      "[CV 5/5; 4/4] END ...........C=2, kernel=linear;, score=0.872 total time=  42.8s\n"
     ]
    },
    {
     "data": {
      "text/plain": [
       "GridSearchCV(cv=5, estimator=SVC(),\n",
       "             param_grid={'C': range(1, 3), 'kernel': ['rbf', 'linear']},\n",
       "             scoring='f1_micro', verbose=10)"
      ]
     },
     "execution_count": 30,
     "metadata": {},
     "output_type": "execute_result"
    }
   ],
   "source": [
    "param_grid  = {\n",
    "    'kernel' : ['rbf', 'linear'],\n",
    "    'C' : range(1,3),   \n",
    "}\n",
    "\n",
    "GSVM = GridSearchCV(svc, param_grid, scoring='f1_micro', cv=5 , verbose=10)\n",
    "GSVM.fit(xtrain, ytrain)"
   ]
  },
  {
   "cell_type": "code",
   "execution_count": 37,
   "id": "61d2d6a4",
   "metadata": {},
   "outputs": [
    {
     "data": {
      "text/plain": [
       "<bound method BaseEstimator.get_params of GridSearchCV(cv=5, estimator=SVC(),\n",
       "             param_grid={'C': range(1, 3), 'kernel': ['rbf', 'linear']},\n",
       "             scoring='f1_micro', verbose=10)>"
      ]
     },
     "execution_count": 37,
     "metadata": {},
     "output_type": "execute_result"
    }
   ],
   "source": [
    "GSVM.get_params"
   ]
  },
  {
   "cell_type": "code",
   "execution_count": 31,
   "id": "1cca03b4",
   "metadata": {},
   "outputs": [
    {
     "data": {
      "text/plain": [
       "{'C': 1, 'kernel': 'linear'}"
      ]
     },
     "execution_count": 31,
     "metadata": {},
     "output_type": "execute_result"
    }
   ],
   "source": [
    "GSVM.best_params_"
   ]
  },
  {
   "cell_type": "code",
   "execution_count": 32,
   "id": "a7149088",
   "metadata": {},
   "outputs": [
    {
     "data": {
      "text/plain": [
       "0.8849174116077384"
      ]
     },
     "execution_count": 32,
     "metadata": {},
     "output_type": "execute_result"
    }
   ],
   "source": [
    "GSVM.best_score_"
   ]
  },
  {
   "cell_type": "code",
   "execution_count": 34,
   "id": "41e1a743",
   "metadata": {},
   "outputs": [
    {
     "name": "stdout",
     "output_type": "stream",
     "text": [
      "[LibSVM][LibSVM][LibSVM]"
     ]
    }
   ],
   "source": [
    "CRSVM = SVC(kernel='linear', C=1, verbose=10, random_state=1414)\n",
    "SVM_SCORES=cross_val_score(CRSVM, X, y, cv=3)"
   ]
  },
  {
   "cell_type": "code",
   "execution_count": 35,
   "id": "d613c919",
   "metadata": {},
   "outputs": [
    {
     "data": {
      "text/plain": [
       "array([0.88478848, 0.88388839, 0.88568857])"
      ]
     },
     "execution_count": 35,
     "metadata": {},
     "output_type": "execute_result"
    }
   ],
   "source": [
    "SVM_SCORES"
   ]
  },
  {
   "cell_type": "code",
   "execution_count": 38,
   "id": "7b158e75",
   "metadata": {},
   "outputs": [
    {
     "name": "stdout",
     "output_type": "stream",
     "text": [
      "[LibSVM]"
     ]
    },
    {
     "data": {
      "text/plain": [
       "SVC(C=1, kernel='linear', random_state=1414, verbose=10)"
      ]
     },
     "execution_count": 38,
     "metadata": {},
     "output_type": "execute_result"
    }
   ],
   "source": [
    "svc = SVC(kernel='linear', C=1, verbose=10, random_state=1414)\n",
    "svc.fit(xtrain, ytrain)\n"
   ]
  },
  {
   "cell_type": "code",
   "execution_count": 40,
   "id": "33fb5ee1",
   "metadata": {},
   "outputs": [
    {
     "data": {
      "text/plain": [
       "array([4, 2, 2, ..., 1, 0, 9])"
      ]
     },
     "execution_count": 40,
     "metadata": {},
     "output_type": "execute_result"
    }
   ],
   "source": [
    "ypred = svc.predict(xtest)\n",
    "ypred"
   ]
  },
  {
   "cell_type": "markdown",
   "id": "9d9f030c",
   "metadata": {},
   "source": [
    "# Evaluation"
   ]
  },
  {
   "cell_type": "code",
   "execution_count": 41,
   "id": "7df80261",
   "metadata": {},
   "outputs": [
    {
     "name": "stdout",
     "output_type": "stream",
     "text": [
      "              precision    recall  f1-score   support\n",
      "\n",
      "           0       0.86      0.93      0.89       251\n",
      "           1       0.85      0.88      0.86       231\n",
      "           2       0.88      0.96      0.92       228\n",
      "           3       0.94      0.92      0.93       270\n",
      "           4       0.82      0.72      0.77       242\n",
      "           5       0.85      0.75      0.80       265\n",
      "           6       0.84      0.90      0.87       239\n",
      "           7       0.90      0.91      0.90       256\n",
      "           8       0.94      0.93      0.94       256\n",
      "           9       0.98      0.96      0.97       262\n",
      "\n",
      "    accuracy                           0.89      2500\n",
      "   macro avg       0.89      0.89      0.89      2500\n",
      "weighted avg       0.89      0.89      0.89      2500\n",
      "\n"
     ]
    }
   ],
   "source": [
    "print(classification_report(ytest, ypred))"
   ]
  },
  {
   "cell_type": "code",
   "execution_count": 44,
   "id": "0d0541fa",
   "metadata": {},
   "outputs": [
    {
     "name": "stdout",
     "output_type": "stream",
     "text": [
      "[[233   1   2   0   0  12   2   1   0   0]\n",
      " [  2 203   0   0   8   6   4   5   2   1]\n",
      " [  2   1 219   0   1   4   0   0   0   1]\n",
      " [  2   0   0 249   9   1   4   2   3   0]\n",
      " [  5  11   4  13 175   4   8  18   3   1]\n",
      " [ 21  14  19   1   2 200   7   0   0   1]\n",
      " [  2   5   0   1   4   5 215   1   4   2]\n",
      " [  4   2   0   1  10   2   2 233   2   0]\n",
      " [  0   2   0   0   2   0  13   0 239   0]\n",
      " [  1   0   4   0   2   1   2   0   0 252]]\n"
     ]
    }
   ],
   "source": [
    "print(confusion_matrix(ytest, ypred))\n",
    "CMATRIX = confusion_matrix(ytest, ypred)"
   ]
  },
  {
   "cell_type": "code",
   "execution_count": 47,
   "id": "43ac0819",
   "metadata": {},
   "outputs": [
    {
     "data": {
      "text/plain": [
       "<AxesSubplot:>"
      ]
     },
     "execution_count": 47,
     "metadata": {},
     "output_type": "execute_result"
    },
    {
     "data": {
      "image/png": "[encoded data removed]",
      "text/plain": [
       "<Figure size 1000x1000 with 2 Axes>"
      ]
     },
     "metadata": {},
     "output_type": "display_data"
    }
   ],
   "source": [
    "plt.figure(figsize=(10,10))\n",
    "sns.heatmap(CMATRIX, annot=True)"
   ]
  },
  {
   "cell_type": "code",
   "execution_count": null,
   "id": "da2e0cef",
   "metadata": {},
   "outputs": [],
   "source": []
  }
 ],
 "metadata": {
  "kernelspec": {
   "display_name": "Python 3 (ipykernel)",
   "language": "python",
   "name": "python3"
  },
  "language_info": {
   "codemirror_mode": {
    "name": "ipython",
    "version": 3
   },
   "file_extension": ".py",
   "mimetype": "text/x-python",
   "name": "python",
   "nbconvert_exporter": "python",
   "pygments_lexer": "ipython3",
   "version": "3.10.9"
  }
 },
 "nbformat": 4,
 "nbformat_minor": 5
}
