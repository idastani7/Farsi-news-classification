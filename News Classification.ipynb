{
  "cells": [
    {
      "cell_type": "code",
      "source": [
        "pip install hazm"
      ],
      "metadata": {
        "id": "1BJDgrWe1OcX"
      },
      "id": "1BJDgrWe1OcX",
      "execution_count": null,
      "outputs": []
    },
    {
      "cell_type": "code",
      "execution_count": 2,
      "id": "b28c665f",
      "metadata": {
        "id": "b28c665f"
      },
      "outputs": [],
      "source": [
        "import pandas as pd\n",
        "import numpy as np\n",
        "import hazm\n",
        "import seaborn as sns\n",
        "import matplotlib.pyplot as plt\n",
        "from  sklearn.feature_extraction.text import TfidfVectorizer\n",
        "from sklearn.preprocessing import LabelEncoder\n",
        "from sklearn.model_selection import train_test_split, GridSearchCV, cross_validate\n",
        "from sklearn.metrics import classification_report, confusion_matrix\n",
        "import nltk\n",
        "from nltk.corpus import stopwords\n",
        "from sklearn.pipeline import Pipeline\n",
        "from sklearn.svm import SVC\n",
        "from sklearn.neighbors import KNeighborsClassifier\n",
        "from sklearn.ensemble import RandomForestClassifier\n",
        "from sklearn.tree import DecisionTreeClassifier"
      ]
    },
    {
      "cell_type": "markdown",
      "id": "e8394850",
      "metadata": {
        "id": "e8394850"
      },
      "source": [
        "# EDA"
      ]
    },
    {
      "cell_type": "code",
      "execution_count": 3,
      "id": "0e6c8524",
      "metadata": {
        "colab": {
          "base_uri": "https://localhost:8080/",
          "height": 423
        },
        "id": "0e6c8524",
        "outputId": "e1b232ee-0096-4283-a1bb-4b007c5f09f2"
      },
      "outputs": [
        {
          "output_type": "execute_result",
          "data": {
            "text/plain": [
              "       NewsID                                              Title  \\\n",
              "0      843656  \\nوزير علوم درجمع استادان نمونه: سن بازنشستگي ...   \n",
              "1      837144  \\nگردهمايي دانش‌آموختگان موسسه آموزش عالي سوره...   \n",
              "2      436862  \\nنتايج آزمون دوره‌هاي فراگير دانشگاه پيام‌نور...   \n",
              "3      227781  \\nهمايش يكروزه آسيب شناسي مفهوم روابط عمومي در...   \n",
              "4      174187  \\nوضعيت اقتصادي و ميزان تحصيلات والدين از مهمت...   \n",
              "...       ...                                                ...   \n",
              "10994  252520              \\n/گزارش/ «حقي» حق خود را با طلا گرفت   \n",
              "10995  899807  \\nمدير تيم‌هاي ملي كشتي فرنگي: نفرات اول تا سو...   \n",
              "10996  432925  \\nتساوي چلسي و ادامه صدرنشيني آرسنال تساوي اشت...   \n",
              "10997  736914  \\nشكست ايران از پرتغال در آيينه‌ي خبرگزاري‌ها:...   \n",
              "10998  681439  \\nهادي شكوري: صدر جدول را تصاحب كنيم ديگر آن ر...   \n",
              "\n",
              "                                                    Body         Date  \\\n",
              "0      \\nوزير علوم در جمع استادان نمونه كشور گفت: از ...  \\n138/5//09   \n",
              "1      \\nبه گزارش سرويس صنفي آموزشي خبرگزاري دانشجويا...  \\n138/5//09   \n",
              "2      \\nنتايج آزمون دوره‌هاي فراگير مقاطع كارشناسي و...  \\n138/3//07   \n",
              "3                                                     \\n  \\n138/2//02   \n",
              "4      \\nمحمدتقي علوي يزدي، مجري اين طرح پژوهشي در اي...  \\n138/1//08   \n",
              "...                                                  ...          ...   \n",
              "10994  \\nبه گزارش ايسنا، در كوران مسابقات دوچرخه سوار...  \\n138/2//04   \n",
              "10995  \\nمحمد دليريان در گفت‌وگو با خبرنگار كشتي خبرگ...  \\n138/6//01   \n",
              "10996  \\nبه گزارش خبرگزاري دانشجويان ايران (ايسنا)، د...  \\n138/3//06   \n",
              "10997  \\nبه گزارش خبرگزاري دانشجويان ايران (ايسنا)، ا...  \\n138/5//03   \n",
              "10998  \\nهادي شكوري در خصوص ديدار تيمش مقابل راه‌آهن ...  \\n138/4//12   \n",
              "\n",
              "            Time            Category  Category2  \n",
              "0      \\n0:9::18           \\nآموزشي-   \\nآموزشي  \n",
              "1      \\n1:4::11           \\nآموزشي-   \\nآموزشي  \n",
              "2      \\n1:0::03           \\nآموزشي-   \\nآموزشي  \n",
              "3      \\n1:3::42  \\nاجتماعي-خانواده-  \\nاجتماعي  \n",
              "4      \\n1:1::49           \\nآموزشي-   \\nآموزشي  \n",
              "...          ...                 ...        ...  \n",
              "10994  \\n1:3::33   \\nقهرماني-همگاني-    \\nورزشي  \n",
              "10995  \\n1:2::42       \\nورزشي-كشتي-    \\nورزشي  \n",
              "10996  \\n1:0::39     \\nورزشي-فوتبال-    \\nورزشي  \n",
              "10997  \\n2:0::13   \\nجام جهاني 2010-    \\nورزشي  \n",
              "10998  \\n1:2::41     \\nورزشي-فوتبال-    \\nورزشي  \n",
              "\n",
              "[10999 rows x 7 columns]"
            ],
            "text/html": [
              "\n",
              "\n",
              "  <div id=\"df-87b94681-df89-484e-b947-fafd39e3a384\">\n",
              "    <div class=\"colab-df-container\">\n",
              "      <div>\n",
              "<style scoped>\n",
              "    .dataframe tbody tr th:only-of-type {\n",
              "        vertical-align: middle;\n",
              "    }\n",
              "\n",
              "    .dataframe tbody tr th {\n",
              "        vertical-align: top;\n",
              "    }\n",
              "\n",
              "    .dataframe thead th {\n",
              "        text-align: right;\n",
              "    }\n",
              "</style>\n",
              "<table border=\"1\" class=\"dataframe\">\n",
              "  <thead>\n",
              "    <tr style=\"text-align: right;\">\n",
              "      <th></th>\n",
              "      <th>NewsID</th>\n",
              "      <th>Title</th>\n",
              "      <th>Body</th>\n",
              "      <th>Date</th>\n",
              "      <th>Time</th>\n",
              "      <th>Category</th>\n",
              "      <th>Category2</th>\n",
              "    </tr>\n",
              "  </thead>\n",
              "  <tbody>\n",
              "    <tr>\n",
              "      <th>0</th>\n",
              "      <td>843656</td>\n",
              "      <td>\\nوزير علوم درجمع استادان نمونه: سن بازنشستگي ...</td>\n",
              "      <td>\\nوزير علوم در جمع استادان نمونه كشور گفت: از ...</td>\n",
              "      <td>\\n138/5//09</td>\n",
              "      <td>\\n0:9::18</td>\n",
              "      <td>\\nآموزشي-</td>\n",
              "      <td>\\nآموزشي</td>\n",
              "    </tr>\n",
              "    <tr>\n",
              "      <th>1</th>\n",
              "      <td>837144</td>\n",
              "      <td>\\nگردهمايي دانش‌آموختگان موسسه آموزش عالي سوره...</td>\n",
              "      <td>\\nبه گزارش سرويس صنفي آموزشي خبرگزاري دانشجويا...</td>\n",
              "      <td>\\n138/5//09</td>\n",
              "      <td>\\n1:4::11</td>\n",
              "      <td>\\nآموزشي-</td>\n",
              "      <td>\\nآموزشي</td>\n",
              "    </tr>\n",
              "    <tr>\n",
              "      <th>2</th>\n",
              "      <td>436862</td>\n",
              "      <td>\\nنتايج آزمون دوره‌هاي فراگير دانشگاه پيام‌نور...</td>\n",
              "      <td>\\nنتايج آزمون دوره‌هاي فراگير مقاطع كارشناسي و...</td>\n",
              "      <td>\\n138/3//07</td>\n",
              "      <td>\\n1:0::03</td>\n",
              "      <td>\\nآموزشي-</td>\n",
              "      <td>\\nآموزشي</td>\n",
              "    </tr>\n",
              "    <tr>\n",
              "      <th>3</th>\n",
              "      <td>227781</td>\n",
              "      <td>\\nهمايش يكروزه آسيب شناسي مفهوم روابط عمومي در...</td>\n",
              "      <td>\\n</td>\n",
              "      <td>\\n138/2//02</td>\n",
              "      <td>\\n1:3::42</td>\n",
              "      <td>\\nاجتماعي-خانواده-</td>\n",
              "      <td>\\nاجتماعي</td>\n",
              "    </tr>\n",
              "    <tr>\n",
              "      <th>4</th>\n",
              "      <td>174187</td>\n",
              "      <td>\\nوضعيت اقتصادي و ميزان تحصيلات والدين از مهمت...</td>\n",
              "      <td>\\nمحمدتقي علوي يزدي، مجري اين طرح پژوهشي در اي...</td>\n",
              "      <td>\\n138/1//08</td>\n",
              "      <td>\\n1:1::49</td>\n",
              "      <td>\\nآموزشي-</td>\n",
              "      <td>\\nآموزشي</td>\n",
              "    </tr>\n",
              "    <tr>\n",
              "      <th>...</th>\n",
              "      <td>...</td>\n",
              "      <td>...</td>\n",
              "      <td>...</td>\n",
              "      <td>...</td>\n",
              "      <td>...</td>\n",
              "      <td>...</td>\n",
              "      <td>...</td>\n",
              "    </tr>\n",
              "    <tr>\n",
              "      <th>10994</th>\n",
              "      <td>252520</td>\n",
              "      <td>\\n/گزارش/ «حقي» حق خود را با طلا گرفت</td>\n",
              "      <td>\\nبه گزارش ايسنا، در كوران مسابقات دوچرخه سوار...</td>\n",
              "      <td>\\n138/2//04</td>\n",
              "      <td>\\n1:3::33</td>\n",
              "      <td>\\nقهرماني-همگاني-</td>\n",
              "      <td>\\nورزشي</td>\n",
              "    </tr>\n",
              "    <tr>\n",
              "      <th>10995</th>\n",
              "      <td>899807</td>\n",
              "      <td>\\nمدير تيم‌هاي ملي كشتي فرنگي: نفرات اول تا سو...</td>\n",
              "      <td>\\nمحمد دليريان در گفت‌وگو با خبرنگار كشتي خبرگ...</td>\n",
              "      <td>\\n138/6//01</td>\n",
              "      <td>\\n1:2::42</td>\n",
              "      <td>\\nورزشي-كشتي-</td>\n",
              "      <td>\\nورزشي</td>\n",
              "    </tr>\n",
              "    <tr>\n",
              "      <th>10996</th>\n",
              "      <td>432925</td>\n",
              "      <td>\\nتساوي چلسي و ادامه صدرنشيني آرسنال تساوي اشت...</td>\n",
              "      <td>\\nبه گزارش خبرگزاري دانشجويان ايران (ايسنا)، د...</td>\n",
              "      <td>\\n138/3//06</td>\n",
              "      <td>\\n1:0::39</td>\n",
              "      <td>\\nورزشي-فوتبال-</td>\n",
              "      <td>\\nورزشي</td>\n",
              "    </tr>\n",
              "    <tr>\n",
              "      <th>10997</th>\n",
              "      <td>736914</td>\n",
              "      <td>\\nشكست ايران از پرتغال در آيينه‌ي خبرگزاري‌ها:...</td>\n",
              "      <td>\\nبه گزارش خبرگزاري دانشجويان ايران (ايسنا)، ا...</td>\n",
              "      <td>\\n138/5//03</td>\n",
              "      <td>\\n2:0::13</td>\n",
              "      <td>\\nجام جهاني 2010-</td>\n",
              "      <td>\\nورزشي</td>\n",
              "    </tr>\n",
              "    <tr>\n",
              "      <th>10998</th>\n",
              "      <td>681439</td>\n",
              "      <td>\\nهادي شكوري: صدر جدول را تصاحب كنيم ديگر آن ر...</td>\n",
              "      <td>\\nهادي شكوري در خصوص ديدار تيمش مقابل راه‌آهن ...</td>\n",
              "      <td>\\n138/4//12</td>\n",
              "      <td>\\n1:2::41</td>\n",
              "      <td>\\nورزشي-فوتبال-</td>\n",
              "      <td>\\nورزشي</td>\n",
              "    </tr>\n",
              "  </tbody>\n",
              "</table>\n",
              "<p>10999 rows × 7 columns</p>\n",
              "</div>\n",
              "      <button class=\"colab-df-convert\" onclick=\"convertToInteractive('df-87b94681-df89-484e-b947-fafd39e3a384')\"\n",
              "              title=\"Convert this dataframe to an interactive table.\"\n",
              "              style=\"display:none;\">\n",
              "\n",
              "  <svg xmlns=\"http://www.w3.org/2000/svg\" height=\"24px\"viewBox=\"0 0 24 24\"\n",
              "       width=\"24px\">\n",
              "    <path d=\"M0 0h24v24H0V0z\" fill=\"none\"/>\n",
              "    <path d=\"M18.56 5.44l.94 2.06.94-2.06 2.06-.94-2.06-.94-.94-2.06-.94 2.06-2.06.94zm-11 1L8.5 8.5l.94-2.06 2.06-.94-2.06-.94L8.5 2.5l-.94 2.06-2.06.94zm10 10l.94 2.06.94-2.06 2.06-.94-2.06-.94-.94-2.06-.94 2.06-2.06.94z\"/><path d=\"M17.41 7.96l-1.37-1.37c-.4-.4-.92-.59-1.43-.59-.52 0-1.04.2-1.43.59L10.3 9.45l-7.72 7.72c-.78.78-.78 2.05 0 2.83L4 21.41c.39.39.9.59 1.41.59.51 0 1.02-.2 1.41-.59l7.78-7.78 2.81-2.81c.8-.78.8-2.07 0-2.86zM5.41 20L4 18.59l7.72-7.72 1.47 1.35L5.41 20z\"/>\n",
              "  </svg>\n",
              "      </button>\n",
              "\n",
              "\n",
              "\n",
              "    <div id=\"df-3c566c96-60df-40a3-9867-81de041abcee\">\n",
              "      <button class=\"colab-df-quickchart\" onclick=\"quickchart('df-3c566c96-60df-40a3-9867-81de041abcee')\"\n",
              "              title=\"Suggest charts.\"\n",
              "              style=\"display:none;\">\n",
              "\n",
              "<svg xmlns=\"http://www.w3.org/2000/svg\" height=\"24px\"viewBox=\"0 0 24 24\"\n",
              "     width=\"24px\">\n",
              "    <g>\n",
              "        <path d=\"M19 3H5c-1.1 0-2 .9-2 2v14c0 1.1.9 2 2 2h14c1.1 0 2-.9 2-2V5c0-1.1-.9-2-2-2zM9 17H7v-7h2v7zm4 0h-2V7h2v10zm4 0h-2v-4h2v4z\"/>\n",
              "    </g>\n",
              "</svg>\n",
              "      </button>\n",
              "    </div>\n",
              "\n",
              "<style>\n",
              "  .colab-df-quickchart {\n",
              "    background-color: #E8F0FE;\n",
              "    border: none;\n",
              "    border-radius: 50%;\n",
              "    cursor: pointer;\n",
              "    display: none;\n",
              "    fill: #1967D2;\n",
              "    height: 32px;\n",
              "    padding: 0 0 0 0;\n",
              "    width: 32px;\n",
              "  }\n",
              "\n",
              "  .colab-df-quickchart:hover {\n",
              "    background-color: #E2EBFA;\n",
              "    box-shadow: 0px 1px 2px rgba(60, 64, 67, 0.3), 0px 1px 3px 1px rgba(60, 64, 67, 0.15);\n",
              "    fill: #174EA6;\n",
              "  }\n",
              "\n",
              "  [theme=dark] .colab-df-quickchart {\n",
              "    background-color: #3B4455;\n",
              "    fill: #D2E3FC;\n",
              "  }\n",
              "\n",
              "  [theme=dark] .colab-df-quickchart:hover {\n",
              "    background-color: #434B5C;\n",
              "    box-shadow: 0px 1px 3px 1px rgba(0, 0, 0, 0.15);\n",
              "    filter: drop-shadow(0px 1px 2px rgba(0, 0, 0, 0.3));\n",
              "    fill: #FFFFFF;\n",
              "  }\n",
              "</style>\n",
              "\n",
              "    <script>\n",
              "      async function quickchart(key) {\n",
              "        const containerElement = document.querySelector('#' + key);\n",
              "        const charts = await google.colab.kernel.invokeFunction(\n",
              "            'suggestCharts', [key], {});\n",
              "      }\n",
              "    </script>\n",
              "\n",
              "      <script>\n",
              "\n",
              "function displayQuickchartButton(domScope) {\n",
              "  let quickchartButtonEl =\n",
              "    domScope.querySelector('#df-3c566c96-60df-40a3-9867-81de041abcee button.colab-df-quickchart');\n",
              "  quickchartButtonEl.style.display =\n",
              "    google.colab.kernel.accessAllowed ? 'block' : 'none';\n",
              "}\n",
              "\n",
              "        displayQuickchartButton(document);\n",
              "      </script>\n",
              "      <style>\n",
              "    .colab-df-container {\n",
              "      display:flex;\n",
              "      flex-wrap:wrap;\n",
              "      gap: 12px;\n",
              "    }\n",
              "\n",
              "    .colab-df-convert {\n",
              "      background-color: #E8F0FE;\n",
              "      border: none;\n",
              "      border-radius: 50%;\n",
              "      cursor: pointer;\n",
              "      display: none;\n",
              "      fill: #1967D2;\n",
              "      height: 32px;\n",
              "      padding: 0 0 0 0;\n",
              "      width: 32px;\n",
              "    }\n",
              "\n",
              "    .colab-df-convert:hover {\n",
              "      background-color: #E2EBFA;\n",
              "      box-shadow: 0px 1px 2px rgba(60, 64, 67, 0.3), 0px 1px 3px 1px rgba(60, 64, 67, 0.15);\n",
              "      fill: #174EA6;\n",
              "    }\n",
              "\n",
              "    [theme=dark] .colab-df-convert {\n",
              "      background-color: #3B4455;\n",
              "      fill: #D2E3FC;\n",
              "    }\n",
              "\n",
              "    [theme=dark] .colab-df-convert:hover {\n",
              "      background-color: #434B5C;\n",
              "      box-shadow: 0px 1px 3px 1px rgba(0, 0, 0, 0.15);\n",
              "      filter: drop-shadow(0px 1px 2px rgba(0, 0, 0, 0.3));\n",
              "      fill: #FFFFFF;\n",
              "    }\n",
              "  </style>\n",
              "\n",
              "      <script>\n",
              "        const buttonEl =\n",
              "          document.querySelector('#df-87b94681-df89-484e-b947-fafd39e3a384 button.colab-df-convert');\n",
              "        buttonEl.style.display =\n",
              "          google.colab.kernel.accessAllowed ? 'block' : 'none';\n",
              "\n",
              "        async function convertToInteractive(key) {\n",
              "          const element = document.querySelector('#df-87b94681-df89-484e-b947-fafd39e3a384');\n",
              "          const dataTable =\n",
              "            await google.colab.kernel.invokeFunction('convertToInteractive',\n",
              "                                                     [key], {});\n",
              "          if (!dataTable) return;\n",
              "\n",
              "          const docLinkHtml = 'Like what you see? Visit the ' +\n",
              "            '<a target=\"_blank\" href=https://colab.research.google.com/notebooks/data_table.ipynb>data table notebook</a>'\n",
              "            + ' to learn more about interactive tables.';\n",
              "          element.innerHTML = '';\n",
              "          dataTable['output_type'] = 'display_data';\n",
              "          await google.colab.output.renderOutput(dataTable, element);\n",
              "          const docLink = document.createElement('div');\n",
              "          docLink.innerHTML = docLinkHtml;\n",
              "          element.appendChild(docLink);\n",
              "        }\n",
              "      </script>\n",
              "    </div>\n",
              "  </div>\n"
            ]
          },
          "metadata": {},
          "execution_count": 3
        }
      ],
      "source": [
        "data = pd.read_csv('per.csv')\n",
        "data"
      ]
    },
    {
      "cell_type": "code",
      "execution_count": 4,
      "id": "d00e2ca5",
      "metadata": {
        "colab": {
          "base_uri": "https://localhost:8080/"
        },
        "id": "d00e2ca5",
        "outputId": "415107f8-a232-40c0-b0ba-aa4d769cd2bd"
      },
      "outputs": [
        {
          "output_type": "stream",
          "name": "stdout",
          "text": [
            "<class 'pandas.core.frame.DataFrame'>\n",
            "RangeIndex: 10999 entries, 0 to 10998\n",
            "Data columns (total 7 columns):\n",
            " #   Column     Non-Null Count  Dtype \n",
            "---  ------     --------------  ----- \n",
            " 0   NewsID     10999 non-null  int64 \n",
            " 1   Title      10999 non-null  object\n",
            " 2   Body       10999 non-null  object\n",
            " 3   Date       10999 non-null  object\n",
            " 4   Time       10999 non-null  object\n",
            " 5   Category   10999 non-null  object\n",
            " 6   Category2  10999 non-null  object\n",
            "dtypes: int64(1), object(6)\n",
            "memory usage: 601.6+ KB\n"
          ]
        }
      ],
      "source": [
        "data.info()"
      ]
    },
    {
      "cell_type": "code",
      "execution_count": 5,
      "id": "61b8ebe4",
      "metadata": {
        "colab": {
          "base_uri": "https://localhost:8080/"
        },
        "id": "61b8ebe4",
        "outputId": "8540be1a-abed-4505-cbe1-2e5452c55cc4"
      },
      "outputs": [
        {
          "output_type": "execute_result",
          "data": {
            "text/plain": [
              "NewsID       0\n",
              "Title        0\n",
              "Body         0\n",
              "Date         0\n",
              "Time         0\n",
              "Category     0\n",
              "Category2    0\n",
              "dtype: int64"
            ]
          },
          "metadata": {},
          "execution_count": 5
        }
      ],
      "source": [
        "data.isnull().sum()"
      ]
    },
    {
      "cell_type": "code",
      "execution_count": 6,
      "id": "37a3f647",
      "metadata": {
        "colab": {
          "base_uri": "https://localhost:8080/"
        },
        "id": "37a3f647",
        "outputId": "f2d7e98f-3798-4eb2-9060-fe5e724cd4aa"
      },
      "outputs": [
        {
          "output_type": "execute_result",
          "data": {
            "text/plain": [
              "array(['\\nآموزشي', '\\nاجتماعي', '\\nتاريخي', '\\nاقتصادي', '\\nبهداشتي',\n",
              "       '\\nعلمي', '\\nسياسي', '\\nفرهنگي', '\\nفقه و حقوق', '\\nمذهبي',\n",
              "       '\\nورزشي'], dtype=object)"
            ]
          },
          "metadata": {},
          "execution_count": 6
        }
      ],
      "source": [
        "data.Category2.unique()"
      ]
    },
    {
      "cell_type": "code",
      "execution_count": 7,
      "id": "7abaf6c2",
      "metadata": {
        "colab": {
          "base_uri": "https://localhost:8080/"
        },
        "id": "7abaf6c2",
        "outputId": "6f30d2ae-69ce-4a30-e471-c588b87d1895"
      },
      "outputs": [
        {
          "output_type": "execute_result",
          "data": {
            "text/plain": [
              "\\nآموزشي        1000\n",
              "\\nاجتماعي       1000\n",
              "\\nاقتصادي       1000\n",
              "\\nبهداشتي       1000\n",
              "\\nعلمي          1000\n",
              "\\nسياسي         1000\n",
              "\\nفرهنگي        1000\n",
              "\\nفقه و حقوق    1000\n",
              "\\nمذهبي         1000\n",
              "\\nورزشي         1000\n",
              "\\nتاريخي         999\n",
              "Name: Category2, dtype: int64"
            ]
          },
          "metadata": {},
          "execution_count": 7
        }
      ],
      "source": [
        "data.Category2.value_counts()"
      ]
    },
    {
      "cell_type": "markdown",
      "id": "9cef68b6",
      "metadata": {
        "id": "9cef68b6"
      },
      "source": [
        "# Preprocessing"
      ]
    },
    {
      "cell_type": "code",
      "execution_count": 8,
      "id": "1397a0a6",
      "metadata": {
        "scrolled": true,
        "colab": {
          "base_uri": "https://localhost:8080/"
        },
        "id": "1397a0a6",
        "outputId": "0c6ab3fa-b491-47ed-a50d-2db0830865c2"
      },
      "outputs": [
        {
          "output_type": "stream",
          "name": "stderr",
          "text": [
            "[nltk_data] Downloading package stopwords to /root/nltk_data...\n",
            "[nltk_data]   Package stopwords is already up-to-date!\n"
          ]
        }
      ],
      "source": [
        "nltk.download('stopwords')\n",
        "with open('stopwords-Copy1.txt', 'r', encoding=\"utf8\") as words:\n",
        "    stopwords1 = words.readlines()\n",
        "stopwords = set(stopwords.words('english'))\n",
        "stopwords1 = [x.replace('\\n', '') for x in stopwords1]\n",
        "stopwords1 = [x.replace(\"\\u200c\", '') for x in stopwords1]\n",
        "stopwords1.extend(stopwords)\n"
      ]
    },
    {
      "cell_type": "code",
      "execution_count": 9,
      "id": "7c93739a",
      "metadata": {
        "colab": {
          "base_uri": "https://localhost:8080/",
          "height": 36
        },
        "id": "7c93739a",
        "outputId": "b35d4042-7cd6-42f3-e705-c1483ab86a4e"
      },
      "outputs": [
        {
          "output_type": "execute_result",
          "data": {
            "text/plain": [
              "'رفت#رو'"
            ],
            "application/vnd.google.colaboratory.intrinsic+json": {
              "type": "string"
            }
          },
          "metadata": {},
          "execution_count": 9
        }
      ],
      "source": [
        "lem  = hazm.Lemmatizer()\n",
        "lem.lemmatize('رفتیم')"
      ]
    },
    {
      "cell_type": "code",
      "execution_count": 10,
      "id": "15d24282",
      "metadata": {
        "colab": {
          "base_uri": "https://localhost:8080/",
          "height": 36
        },
        "id": "15d24282",
        "outputId": "616486df-b4e6-41ac-dd5a-cce43d7507c3"
      },
      "outputs": [
        {
          "output_type": "execute_result",
          "data": {
            "text/plain": [
              "'رفت'"
            ],
            "application/vnd.google.colaboratory.intrinsic+json": {
              "type": "string"
            }
          },
          "metadata": {},
          "execution_count": 10
        }
      ],
      "source": [
        "stem=hazm.Stemmer()\n",
        "stem.stem('رفتیم')"
      ]
    },
    {
      "cell_type": "markdown",
      "id": "4084ae01",
      "metadata": {
        "id": "4084ae01"
      },
      "source": [
        "Here we preprocessed our farsi news with HAZM library which has a lot of benefits and help us to clean data"
      ]
    },
    {
      "cell_type": "code",
      "execution_count": 11,
      "id": "47c21e68",
      "metadata": {
        "id": "47c21e68"
      },
      "outputs": [],
      "source": [
        "dataset = pd.DataFrame(columns=('Title Body', 'Category'))\n",
        "\n",
        "for index, row in data.iterrows():\n",
        "    title_body = row['Title'] + '  ' + row['Body']\n",
        "    title_body_tokenized = hazm.word_tokenize(title_body)\n",
        "    title_body_tokenized_filtered = [x for x in title_body_tokenized if not x in stopwords1]\n",
        "    title_body_tokenized_filtered_lem = [lem.lemmatize(x).replace('#', ' ') for x in title_body_tokenized_filtered ]\n",
        "    title_body_tokenized_filtered_stem =[stem.stem(x).replace('#', ' ') for x in title_body_tokenized_filtered]\n",
        "    dataset.loc[index] = {\n",
        "          'Title Body' : ' ' .join( title_body_tokenized_filtered_lem) + '  ' + '  ' .join(title_body_tokenized_filtered_stem)\n",
        "       , 'Category' : row['Category2'].replace('\\n', ' ')\n",
        "    }\n",
        "\n"
      ]
    },
    {
      "cell_type": "code",
      "execution_count": 12,
      "id": "33205ff8",
      "metadata": {
        "colab": {
          "base_uri": "https://localhost:8080/",
          "height": 423
        },
        "id": "33205ff8",
        "outputId": "1b89880b-c611-40f6-c822-04e3b73fdbbf"
      },
      "outputs": [
        {
          "output_type": "execute_result",
          "data": {
            "text/plain": [
              "                                              Title Body  Category\n",
              "0      وزير علوم درجمع استاد نمونه سن بازنشستگي استاد...    آموزشي\n",
              "1      گردهمايي دانش‌آموختگان موسسه آموزش عالي سوره ب...    آموزشي\n",
              "2      نتايج آزمون دوره‌هاي فراگير دانشگاه پيام‌نور ن...    آموزشي\n",
              "3      همايش يكروزه آسيب شناسي مفهوم روابط عمومي بابل...   اجتماعي\n",
              "4      وضعيت اقتصادي ميزان تحصيلات والدين مهمترين عوا...    آموزشي\n",
              "...                                                  ...       ...\n",
              "10994  گزارش حقي طلا گزارش ايسنا كوران مسابقات دوچرخه...     ورزشي\n",
              "10995  مدير تيم‌هاي ملي كشتي فرنگي نفرات قهرماني كشور...     ورزشي\n",
              "10996  تساوي چلسي ادامه صدرنشيني آرسنال تساوي اشتوتگا...     ورزشي\n",
              "10997  شكست ايران پرتغال آيينه‌ي خبرگزاري‌ها دويچه‌ول...     ورزشي\n",
              "10998  هادي شكوري صدر جدول تصاحب كنيم ديگر دست نخواهي...     ورزشي\n",
              "\n",
              "[10999 rows x 2 columns]"
            ],
            "text/html": [
              "\n",
              "\n",
              "  <div id=\"df-fac46609-7a45-4a69-8d0b-a8dffb55cc92\">\n",
              "    <div class=\"colab-df-container\">\n",
              "      <div>\n",
              "<style scoped>\n",
              "    .dataframe tbody tr th:only-of-type {\n",
              "        vertical-align: middle;\n",
              "    }\n",
              "\n",
              "    .dataframe tbody tr th {\n",
              "        vertical-align: top;\n",
              "    }\n",
              "\n",
              "    .dataframe thead th {\n",
              "        text-align: right;\n",
              "    }\n",
              "</style>\n",
              "<table border=\"1\" class=\"dataframe\">\n",
              "  <thead>\n",
              "    <tr style=\"text-align: right;\">\n",
              "      <th></th>\n",
              "      <th>Title Body</th>\n",
              "      <th>Category</th>\n",
              "    </tr>\n",
              "  </thead>\n",
              "  <tbody>\n",
              "    <tr>\n",
              "      <th>0</th>\n",
              "      <td>وزير علوم درجمع استاد نمونه سن بازنشستگي استاد...</td>\n",
              "      <td>آموزشي</td>\n",
              "    </tr>\n",
              "    <tr>\n",
              "      <th>1</th>\n",
              "      <td>گردهمايي دانش‌آموختگان موسسه آموزش عالي سوره ب...</td>\n",
              "      <td>آموزشي</td>\n",
              "    </tr>\n",
              "    <tr>\n",
              "      <th>2</th>\n",
              "      <td>نتايج آزمون دوره‌هاي فراگير دانشگاه پيام‌نور ن...</td>\n",
              "      <td>آموزشي</td>\n",
              "    </tr>\n",
              "    <tr>\n",
              "      <th>3</th>\n",
              "      <td>همايش يكروزه آسيب شناسي مفهوم روابط عمومي بابل...</td>\n",
              "      <td>اجتماعي</td>\n",
              "    </tr>\n",
              "    <tr>\n",
              "      <th>4</th>\n",
              "      <td>وضعيت اقتصادي ميزان تحصيلات والدين مهمترين عوا...</td>\n",
              "      <td>آموزشي</td>\n",
              "    </tr>\n",
              "    <tr>\n",
              "      <th>...</th>\n",
              "      <td>...</td>\n",
              "      <td>...</td>\n",
              "    </tr>\n",
              "    <tr>\n",
              "      <th>10994</th>\n",
              "      <td>گزارش حقي طلا گزارش ايسنا كوران مسابقات دوچرخه...</td>\n",
              "      <td>ورزشي</td>\n",
              "    </tr>\n",
              "    <tr>\n",
              "      <th>10995</th>\n",
              "      <td>مدير تيم‌هاي ملي كشتي فرنگي نفرات قهرماني كشور...</td>\n",
              "      <td>ورزشي</td>\n",
              "    </tr>\n",
              "    <tr>\n",
              "      <th>10996</th>\n",
              "      <td>تساوي چلسي ادامه صدرنشيني آرسنال تساوي اشتوتگا...</td>\n",
              "      <td>ورزشي</td>\n",
              "    </tr>\n",
              "    <tr>\n",
              "      <th>10997</th>\n",
              "      <td>شكست ايران پرتغال آيينه‌ي خبرگزاري‌ها دويچه‌ول...</td>\n",
              "      <td>ورزشي</td>\n",
              "    </tr>\n",
              "    <tr>\n",
              "      <th>10998</th>\n",
              "      <td>هادي شكوري صدر جدول تصاحب كنيم ديگر دست نخواهي...</td>\n",
              "      <td>ورزشي</td>\n",
              "    </tr>\n",
              "  </tbody>\n",
              "</table>\n",
              "<p>10999 rows × 2 columns</p>\n",
              "</div>\n",
              "      <button class=\"colab-df-convert\" onclick=\"convertToInteractive('df-fac46609-7a45-4a69-8d0b-a8dffb55cc92')\"\n",
              "              title=\"Convert this dataframe to an interactive table.\"\n",
              "              style=\"display:none;\">\n",
              "\n",
              "  <svg xmlns=\"http://www.w3.org/2000/svg\" height=\"24px\"viewBox=\"0 0 24 24\"\n",
              "       width=\"24px\">\n",
              "    <path d=\"M0 0h24v24H0V0z\" fill=\"none\"/>\n",
              "    <path d=\"M18.56 5.44l.94 2.06.94-2.06 2.06-.94-2.06-.94-.94-2.06-.94 2.06-2.06.94zm-11 1L8.5 8.5l.94-2.06 2.06-.94-2.06-.94L8.5 2.5l-.94 2.06-2.06.94zm10 10l.94 2.06.94-2.06 2.06-.94-2.06-.94-.94-2.06-.94 2.06-2.06.94z\"/><path d=\"M17.41 7.96l-1.37-1.37c-.4-.4-.92-.59-1.43-.59-.52 0-1.04.2-1.43.59L10.3 9.45l-7.72 7.72c-.78.78-.78 2.05 0 2.83L4 21.41c.39.39.9.59 1.41.59.51 0 1.02-.2 1.41-.59l7.78-7.78 2.81-2.81c.8-.78.8-2.07 0-2.86zM5.41 20L4 18.59l7.72-7.72 1.47 1.35L5.41 20z\"/>\n",
              "  </svg>\n",
              "      </button>\n",
              "\n",
              "\n",
              "\n",
              "    <div id=\"df-3e15fd8f-b01a-4139-b8f0-8dca3b094a15\">\n",
              "      <button class=\"colab-df-quickchart\" onclick=\"quickchart('df-3e15fd8f-b01a-4139-b8f0-8dca3b094a15')\"\n",
              "              title=\"Suggest charts.\"\n",
              "              style=\"display:none;\">\n",
              "\n",
              "<svg xmlns=\"http://www.w3.org/2000/svg\" height=\"24px\"viewBox=\"0 0 24 24\"\n",
              "     width=\"24px\">\n",
              "    <g>\n",
              "        <path d=\"M19 3H5c-1.1 0-2 .9-2 2v14c0 1.1.9 2 2 2h14c1.1 0 2-.9 2-2V5c0-1.1-.9-2-2-2zM9 17H7v-7h2v7zm4 0h-2V7h2v10zm4 0h-2v-4h2v4z\"/>\n",
              "    </g>\n",
              "</svg>\n",
              "      </button>\n",
              "    </div>\n",
              "\n",
              "<style>\n",
              "  .colab-df-quickchart {\n",
              "    background-color: #E8F0FE;\n",
              "    border: none;\n",
              "    border-radius: 50%;\n",
              "    cursor: pointer;\n",
              "    display: none;\n",
              "    fill: #1967D2;\n",
              "    height: 32px;\n",
              "    padding: 0 0 0 0;\n",
              "    width: 32px;\n",
              "  }\n",
              "\n",
              "  .colab-df-quickchart:hover {\n",
              "    background-color: #E2EBFA;\n",
              "    box-shadow: 0px 1px 2px rgba(60, 64, 67, 0.3), 0px 1px 3px 1px rgba(60, 64, 67, 0.15);\n",
              "    fill: #174EA6;\n",
              "  }\n",
              "\n",
              "  [theme=dark] .colab-df-quickchart {\n",
              "    background-color: #3B4455;\n",
              "    fill: #D2E3FC;\n",
              "  }\n",
              "\n",
              "  [theme=dark] .colab-df-quickchart:hover {\n",
              "    background-color: #434B5C;\n",
              "    box-shadow: 0px 1px 3px 1px rgba(0, 0, 0, 0.15);\n",
              "    filter: drop-shadow(0px 1px 2px rgba(0, 0, 0, 0.3));\n",
              "    fill: #FFFFFF;\n",
              "  }\n",
              "</style>\n",
              "\n",
              "    <script>\n",
              "      async function quickchart(key) {\n",
              "        const containerElement = document.querySelector('#' + key);\n",
              "        const charts = await google.colab.kernel.invokeFunction(\n",
              "            'suggestCharts', [key], {});\n",
              "      }\n",
              "    </script>\n",
              "\n",
              "      <script>\n",
              "\n",
              "function displayQuickchartButton(domScope) {\n",
              "  let quickchartButtonEl =\n",
              "    domScope.querySelector('#df-3e15fd8f-b01a-4139-b8f0-8dca3b094a15 button.colab-df-quickchart');\n",
              "  quickchartButtonEl.style.display =\n",
              "    google.colab.kernel.accessAllowed ? 'block' : 'none';\n",
              "}\n",
              "\n",
              "        displayQuickchartButton(document);\n",
              "      </script>\n",
              "      <style>\n",
              "    .colab-df-container {\n",
              "      display:flex;\n",
              "      flex-wrap:wrap;\n",
              "      gap: 12px;\n",
              "    }\n",
              "\n",
              "    .colab-df-convert {\n",
              "      background-color: #E8F0FE;\n",
              "      border: none;\n",
              "      border-radius: 50%;\n",
              "      cursor: pointer;\n",
              "      display: none;\n",
              "      fill: #1967D2;\n",
              "      height: 32px;\n",
              "      padding: 0 0 0 0;\n",
              "      width: 32px;\n",
              "    }\n",
              "\n",
              "    .colab-df-convert:hover {\n",
              "      background-color: #E2EBFA;\n",
              "      box-shadow: 0px 1px 2px rgba(60, 64, 67, 0.3), 0px 1px 3px 1px rgba(60, 64, 67, 0.15);\n",
              "      fill: #174EA6;\n",
              "    }\n",
              "\n",
              "    [theme=dark] .colab-df-convert {\n",
              "      background-color: #3B4455;\n",
              "      fill: #D2E3FC;\n",
              "    }\n",
              "\n",
              "    [theme=dark] .colab-df-convert:hover {\n",
              "      background-color: #434B5C;\n",
              "      box-shadow: 0px 1px 3px 1px rgba(0, 0, 0, 0.15);\n",
              "      filter: drop-shadow(0px 1px 2px rgba(0, 0, 0, 0.3));\n",
              "      fill: #FFFFFF;\n",
              "    }\n",
              "  </style>\n",
              "\n",
              "      <script>\n",
              "        const buttonEl =\n",
              "          document.querySelector('#df-fac46609-7a45-4a69-8d0b-a8dffb55cc92 button.colab-df-convert');\n",
              "        buttonEl.style.display =\n",
              "          google.colab.kernel.accessAllowed ? 'block' : 'none';\n",
              "\n",
              "        async function convertToInteractive(key) {\n",
              "          const element = document.querySelector('#df-fac46609-7a45-4a69-8d0b-a8dffb55cc92');\n",
              "          const dataTable =\n",
              "            await google.colab.kernel.invokeFunction('convertToInteractive',\n",
              "                                                     [key], {});\n",
              "          if (!dataTable) return;\n",
              "\n",
              "          const docLinkHtml = 'Like what you see? Visit the ' +\n",
              "            '<a target=\"_blank\" href=https://colab.research.google.com/notebooks/data_table.ipynb>data table notebook</a>'\n",
              "            + ' to learn more about interactive tables.';\n",
              "          element.innerHTML = '';\n",
              "          dataTable['output_type'] = 'display_data';\n",
              "          await google.colab.output.renderOutput(dataTable, element);\n",
              "          const docLink = document.createElement('div');\n",
              "          docLink.innerHTML = docLinkHtml;\n",
              "          element.appendChild(docLink);\n",
              "        }\n",
              "      </script>\n",
              "    </div>\n",
              "  </div>\n"
            ]
          },
          "metadata": {},
          "execution_count": 12
        }
      ],
      "source": [
        "dataset"
      ]
    },
    {
      "cell_type": "markdown",
      "id": "f7eabe90",
      "metadata": {
        "id": "f7eabe90"
      },
      "source": [
        "# Spliting Data"
      ]
    },
    {
      "cell_type": "code",
      "source": [
        "X = dataset['Title Body']\n",
        "Y = dataset['Category']"
      ],
      "metadata": {
        "id": "B0jDIuZb2BWG"
      },
      "id": "B0jDIuZb2BWG",
      "execution_count": 13,
      "outputs": []
    },
    {
      "cell_type": "code",
      "source": [
        "lb = LabelEncoder()\n",
        "Y = lb.fit_transform(Y)\n",
        "Y"
      ],
      "metadata": {
        "colab": {
          "base_uri": "https://localhost:8080/"
        },
        "id": "uz7AFz8N2Teo",
        "outputId": "53225420-e8a0-4109-aa1e-9a26ceaacad0"
      },
      "id": "uz7AFz8N2Teo",
      "execution_count": 14,
      "outputs": [
        {
          "output_type": "execute_result",
          "data": {
            "text/plain": [
              "array([ 0,  0,  0, ..., 10, 10, 10])"
            ]
          },
          "metadata": {},
          "execution_count": 14
        }
      ]
    },
    {
      "cell_type": "markdown",
      "source": [
        "# **TF-IDF Vectorization**"
      ],
      "metadata": {
        "id": "s-mKWk6GbSkS"
      },
      "id": "s-mKWk6GbSkS"
    },
    {
      "cell_type": "code",
      "source": [
        "def Vectorizer(text):\n",
        "  Vectorizer= TfidfVectorizer(ngram_range=(1,1))\n",
        "  Vectorizer.fit(text)\n",
        "  X_VEC = Vectorizer.transform(text)\n",
        "  return X_VEC\n",
        "X = Vectorizer(X)"
      ],
      "metadata": {
        "id": "QCpIWijY2SOn"
      },
      "id": "QCpIWijY2SOn",
      "execution_count": 15,
      "outputs": []
    },
    {
      "cell_type": "code",
      "source": [
        "xtrain, xtest, ytrain, ytest =train_test_split(X , Y, test_size=0.25)"
      ],
      "metadata": {
        "id": "UolVRKGm2_G3"
      },
      "id": "UolVRKGm2_G3",
      "execution_count": 16,
      "outputs": []
    },
    {
      "cell_type": "code",
      "source": [
        "xtrain"
      ],
      "metadata": {
        "colab": {
          "base_uri": "https://localhost:8080/"
        },
        "id": "hRyoON9E3v-X",
        "outputId": "efb99b1b-011f-44f2-ef7f-0d7c86db129b"
      },
      "id": "hRyoON9E3v-X",
      "execution_count": 17,
      "outputs": [
        {
          "output_type": "execute_result",
          "data": {
            "text/plain": [
              "<8249x70883 sparse matrix of type '<class 'numpy.float64'>'\n",
              "\twith 1630321 stored elements in Compressed Sparse Row format>"
            ]
          },
          "metadata": {},
          "execution_count": 17
        }
      ]
    },
    {
      "cell_type": "code",
      "source": [
        "xtrain"
      ],
      "metadata": {
        "colab": {
          "base_uri": "https://localhost:8080/"
        },
        "id": "tyrPhyLI37cc",
        "outputId": "d9d3ee37-2a12-4846-a5a4-9fd8613ccc9e"
      },
      "id": "tyrPhyLI37cc",
      "execution_count": 18,
      "outputs": [
        {
          "output_type": "execute_result",
          "data": {
            "text/plain": [
              "<8249x70883 sparse matrix of type '<class 'numpy.float64'>'\n",
              "\twith 1630321 stored elements in Compressed Sparse Row format>"
            ]
          },
          "metadata": {},
          "execution_count": 18
        }
      ]
    },
    {
      "cell_type": "markdown",
      "source": [
        "# **Machine learning Models with Pipeline**"
      ],
      "metadata": {
        "id": "kh4czyc_bb8_"
      },
      "id": "kh4czyc_bb8_"
    },
    {
      "cell_type": "code",
      "source": [
        "pipeline=Pipeline([\n",
        "    ('CLF' , SVC())\n",
        "])\n",
        "clfs = []\n",
        "clfs.append(RandomForestClassifier())\n",
        "clfs.append(SVC())\n",
        "\n",
        "for classifier in clfs:\n",
        "  pipeline.set_params(CLF = classifier)\n",
        "  scores = cross_validate(pipeline, xtrain, ytrain)\n",
        "\n",
        "  for key, value in scores.items():\n",
        "  print(str(classifier) ,'>>')\n",
        "    print(key, 'Mean', value.mean())\n",
        "  print('______________________________')"
      ],
      "metadata": {
        "colab": {
          "base_uri": "https://localhost:8080/"
        },
        "id": "8PU4Fk9a3xkY",
        "outputId": "8264ec6b-6742-4524-d75c-25cdf9ea33cf"
      },
      "id": "8PU4Fk9a3xkY",
      "execution_count": 21,
      "outputs": [
        {
          "output_type": "stream",
          "name": "stdout",
          "text": [
            "RandomForestClassifier() >>\n",
            "fit_time Mean 20.493968629837035\n",
            "RandomForestClassifier() >>\n",
            "score_time Mean 0.18738508224487305\n",
            "RandomForestClassifier() >>\n",
            "test_score Mean 0.7977939246926512\n",
            "______________________________\n",
            "SVC() >>\n",
            "fit_time Mean 105.63271083831788\n",
            "SVC() >>\n",
            "score_time Mean 16.435495853424072\n",
            "SVC() >>\n",
            "test_score Mean 0.8273741661613098\n",
            "______________________________\n"
          ]
        }
      ]
    },
    {
      "cell_type": "markdown",
      "id": "872d636a",
      "metadata": {
        "id": "872d636a"
      },
      "source": [
        "# Grid Search"
      ]
    },
    {
      "cell_type": "code",
      "execution_count": 23,
      "id": "e4808b30",
      "metadata": {
        "colab": {
          "base_uri": "https://localhost:8080/",
          "height": 857
        },
        "id": "e4808b30",
        "outputId": "7732877a-b47c-46a4-b66a-19a290eea1ed"
      },
      "outputs": [
        {
          "output_type": "stream",
          "name": "stdout",
          "text": [
            "Fitting 5 folds for each of 4 candidates, totalling 20 fits\n",
            "[CV 1/5; 1/4] START C=1, kernel=rbf.............................................\n",
            "[CV 1/5; 1/4] END ..............C=1, kernel=rbf;, score=0.833 total time= 2.1min\n",
            "[CV 2/5; 1/4] START C=1, kernel=rbf.............................................\n",
            "[CV 2/5; 1/4] END ..............C=1, kernel=rbf;, score=0.817 total time= 2.0min\n",
            "[CV 3/5; 1/4] START C=1, kernel=rbf.............................................\n",
            "[CV 3/5; 1/4] END ..............C=1, kernel=rbf;, score=0.833 total time= 2.0min\n",
            "[CV 4/5; 1/4] START C=1, kernel=rbf.............................................\n",
            "[CV 4/5; 1/4] END ..............C=1, kernel=rbf;, score=0.818 total time= 2.1min\n",
            "[CV 5/5; 1/4] START C=1, kernel=rbf.............................................\n",
            "[CV 5/5; 1/4] END ..............C=1, kernel=rbf;, score=0.837 total time= 2.0min\n",
            "[CV 1/5; 2/4] START C=1, kernel=linear..........................................\n",
            "[CV 1/5; 2/4] END ...........C=1, kernel=linear;, score=0.839 total time= 1.1min\n",
            "[CV 2/5; 2/4] START C=1, kernel=linear..........................................\n",
            "[CV 2/5; 2/4] END ...........C=1, kernel=linear;, score=0.829 total time= 1.1min\n",
            "[CV 3/5; 2/4] START C=1, kernel=linear..........................................\n",
            "[CV 3/5; 2/4] END ...........C=1, kernel=linear;, score=0.841 total time= 1.1min\n",
            "[CV 4/5; 2/4] START C=1, kernel=linear..........................................\n",
            "[CV 4/5; 2/4] END ...........C=1, kernel=linear;, score=0.833 total time= 1.1min\n",
            "[CV 5/5; 2/4] START C=1, kernel=linear..........................................\n",
            "[CV 5/5; 2/4] END ...........C=1, kernel=linear;, score=0.854 total time= 1.1min\n",
            "[CV 1/5; 3/4] START C=2, kernel=rbf.............................................\n",
            "[CV 1/5; 3/4] END ..............C=2, kernel=rbf;, score=0.835 total time= 2.1min\n",
            "[CV 2/5; 3/4] START C=2, kernel=rbf.............................................\n",
            "[CV 2/5; 3/4] END ..............C=2, kernel=rbf;, score=0.819 total time= 2.1min\n",
            "[CV 3/5; 3/4] START C=2, kernel=rbf.............................................\n",
            "[CV 3/5; 3/4] END ..............C=2, kernel=rbf;, score=0.834 total time= 2.0min\n",
            "[CV 4/5; 3/4] START C=2, kernel=rbf.............................................\n",
            "[CV 4/5; 3/4] END ..............C=2, kernel=rbf;, score=0.822 total time= 2.0min\n",
            "[CV 5/5; 3/4] START C=2, kernel=rbf.............................................\n",
            "[CV 5/5; 3/4] END ..............C=2, kernel=rbf;, score=0.847 total time= 2.0min\n",
            "[CV 1/5; 4/4] START C=2, kernel=linear..........................................\n",
            "[CV 1/5; 4/4] END ...........C=2, kernel=linear;, score=0.837 total time= 1.2min\n",
            "[CV 2/5; 4/4] START C=2, kernel=linear..........................................\n",
            "[CV 2/5; 4/4] END ...........C=2, kernel=linear;, score=0.828 total time= 1.2min\n",
            "[CV 3/5; 4/4] START C=2, kernel=linear..........................................\n",
            "[CV 3/5; 4/4] END ...........C=2, kernel=linear;, score=0.838 total time= 1.2min\n",
            "[CV 4/5; 4/4] START C=2, kernel=linear..........................................\n",
            "[CV 4/5; 4/4] END ...........C=2, kernel=linear;, score=0.832 total time= 1.3min\n",
            "[CV 5/5; 4/4] START C=2, kernel=linear..........................................\n",
            "[CV 5/5; 4/4] END ...........C=2, kernel=linear;, score=0.845 total time= 1.3min\n"
          ]
        },
        {
          "output_type": "execute_result",
          "data": {
            "text/plain": [
              "GridSearchCV(cv=5, estimator=SVC(),\n",
              "             param_grid={'C': range(1, 3), 'kernel': ['rbf', 'linear']},\n",
              "             scoring='f1_micro', verbose=10)"
            ],
            "text/html": [
              "<style>#sk-container-id-1 {color: black;background-color: white;}#sk-container-id-1 pre{padding: 0;}#sk-container-id-1 div.sk-toggleable {background-color: white;}#sk-container-id-1 label.sk-toggleable__label {cursor: pointer;display: block;width: 100%;margin-bottom: 0;padding: 0.3em;box-sizing: border-box;text-align: center;}#sk-container-id-1 label.sk-toggleable__label-arrow:before {content: \"▸\";float: left;margin-right: 0.25em;color: #696969;}#sk-container-id-1 label.sk-toggleable__label-arrow:hover:before {color: black;}#sk-container-id-1 div.sk-estimator:hover label.sk-toggleable__label-arrow:before {color: black;}#sk-container-id-1 div.sk-toggleable__content {max-height: 0;max-width: 0;overflow: hidden;text-align: left;background-color: #f0f8ff;}#sk-container-id-1 div.sk-toggleable__content pre {margin: 0.2em;color: black;border-radius: 0.25em;background-color: #f0f8ff;}#sk-container-id-1 input.sk-toggleable__control:checked~div.sk-toggleable__content {max-height: 200px;max-width: 100%;overflow: auto;}#sk-container-id-1 input.sk-toggleable__control:checked~label.sk-toggleable__label-arrow:before {content: \"▾\";}#sk-container-id-1 div.sk-estimator input.sk-toggleable__control:checked~label.sk-toggleable__label {background-color: #d4ebff;}#sk-container-id-1 div.sk-label input.sk-toggleable__control:checked~label.sk-toggleable__label {background-color: #d4ebff;}#sk-container-id-1 input.sk-hidden--visually {border: 0;clip: rect(1px 1px 1px 1px);clip: rect(1px, 1px, 1px, 1px);height: 1px;margin: -1px;overflow: hidden;padding: 0;position: absolute;width: 1px;}#sk-container-id-1 div.sk-estimator {font-family: monospace;background-color: #f0f8ff;border: 1px dotted black;border-radius: 0.25em;box-sizing: border-box;margin-bottom: 0.5em;}#sk-container-id-1 div.sk-estimator:hover {background-color: #d4ebff;}#sk-container-id-1 div.sk-parallel-item::after {content: \"\";width: 100%;border-bottom: 1px solid gray;flex-grow: 1;}#sk-container-id-1 div.sk-label:hover label.sk-toggleable__label {background-color: #d4ebff;}#sk-container-id-1 div.sk-serial::before {content: \"\";position: absolute;border-left: 1px solid gray;box-sizing: border-box;top: 0;bottom: 0;left: 50%;z-index: 0;}#sk-container-id-1 div.sk-serial {display: flex;flex-direction: column;align-items: center;background-color: white;padding-right: 0.2em;padding-left: 0.2em;position: relative;}#sk-container-id-1 div.sk-item {position: relative;z-index: 1;}#sk-container-id-1 div.sk-parallel {display: flex;align-items: stretch;justify-content: center;background-color: white;position: relative;}#sk-container-id-1 div.sk-item::before, #sk-container-id-1 div.sk-parallel-item::before {content: \"\";position: absolute;border-left: 1px solid gray;box-sizing: border-box;top: 0;bottom: 0;left: 50%;z-index: -1;}#sk-container-id-1 div.sk-parallel-item {display: flex;flex-direction: column;z-index: 1;position: relative;background-color: white;}#sk-container-id-1 div.sk-parallel-item:first-child::after {align-self: flex-end;width: 50%;}#sk-container-id-1 div.sk-parallel-item:last-child::after {align-self: flex-start;width: 50%;}#sk-container-id-1 div.sk-parallel-item:only-child::after {width: 0;}#sk-container-id-1 div.sk-dashed-wrapped {border: 1px dashed gray;margin: 0 0.4em 0.5em 0.4em;box-sizing: border-box;padding-bottom: 0.4em;background-color: white;}#sk-container-id-1 div.sk-label label {font-family: monospace;font-weight: bold;display: inline-block;line-height: 1.2em;}#sk-container-id-1 div.sk-label-container {text-align: center;}#sk-container-id-1 div.sk-container {/* jupyter's `normalize.less` sets `[hidden] { display: none; }` but bootstrap.min.css set `[hidden] { display: none !important; }` so we also need the `!important` here to be able to override the default hidden behavior on the sphinx rendered scikit-learn.org. See: https://github.com/scikit-learn/scikit-learn/issues/21755 */display: inline-block !important;position: relative;}#sk-container-id-1 div.sk-text-repr-fallback {display: none;}</style><div id=\"sk-container-id-1\" class=\"sk-top-container\"><div class=\"sk-text-repr-fallback\"><pre>GridSearchCV(cv=5, estimator=SVC(),\n",
              "             param_grid={&#x27;C&#x27;: range(1, 3), &#x27;kernel&#x27;: [&#x27;rbf&#x27;, &#x27;linear&#x27;]},\n",
              "             scoring=&#x27;f1_micro&#x27;, verbose=10)</pre><b>In a Jupyter environment, please rerun this cell to show the HTML representation or trust the notebook. <br />On GitHub, the HTML representation is unable to render, please try loading this page with nbviewer.org.</b></div><div class=\"sk-container\" hidden><div class=\"sk-item sk-dashed-wrapped\"><div class=\"sk-label-container\"><div class=\"sk-label sk-toggleable\"><input class=\"sk-toggleable__control sk-hidden--visually\" id=\"sk-estimator-id-1\" type=\"checkbox\" ><label for=\"sk-estimator-id-1\" class=\"sk-toggleable__label sk-toggleable__label-arrow\">GridSearchCV</label><div class=\"sk-toggleable__content\"><pre>GridSearchCV(cv=5, estimator=SVC(),\n",
              "             param_grid={&#x27;C&#x27;: range(1, 3), &#x27;kernel&#x27;: [&#x27;rbf&#x27;, &#x27;linear&#x27;]},\n",
              "             scoring=&#x27;f1_micro&#x27;, verbose=10)</pre></div></div></div><div class=\"sk-parallel\"><div class=\"sk-parallel-item\"><div class=\"sk-item\"><div class=\"sk-label-container\"><div class=\"sk-label sk-toggleable\"><input class=\"sk-toggleable__control sk-hidden--visually\" id=\"sk-estimator-id-2\" type=\"checkbox\" ><label for=\"sk-estimator-id-2\" class=\"sk-toggleable__label sk-toggleable__label-arrow\">estimator: SVC</label><div class=\"sk-toggleable__content\"><pre>SVC()</pre></div></div></div><div class=\"sk-serial\"><div class=\"sk-item\"><div class=\"sk-estimator sk-toggleable\"><input class=\"sk-toggleable__control sk-hidden--visually\" id=\"sk-estimator-id-3\" type=\"checkbox\" ><label for=\"sk-estimator-id-3\" class=\"sk-toggleable__label sk-toggleable__label-arrow\">SVC</label><div class=\"sk-toggleable__content\"><pre>SVC()</pre></div></div></div></div></div></div></div></div></div></div>"
            ]
          },
          "metadata": {},
          "execution_count": 23
        }
      ],
      "source": [
        "param_grid  = {\n",
        "    'kernel' : ['rbf', 'linear'],\n",
        "    'C' : range(1,3),\n",
        "}\n",
        "\n",
        "GSVM = GridSearchCV(SVC(), param_grid, scoring='f1_micro', cv=5 , verbose=10)\n",
        "GSVM.fit(xtrain, ytrain)"
      ]
    },
    {
      "cell_type": "code",
      "execution_count": 24,
      "id": "61d2d6a4",
      "metadata": {
        "colab": {
          "base_uri": "https://localhost:8080/"
        },
        "id": "61d2d6a4",
        "outputId": "2a8b0197-8649-481a-d7e7-b8f979a88cf7"
      },
      "outputs": [
        {
          "output_type": "execute_result",
          "data": {
            "text/plain": [
              "<bound method BaseEstimator.get_params of GridSearchCV(cv=5, estimator=SVC(),\n",
              "             param_grid={'C': range(1, 3), 'kernel': ['rbf', 'linear']},\n",
              "             scoring='f1_micro', verbose=10)>"
            ]
          },
          "metadata": {},
          "execution_count": 24
        }
      ],
      "source": [
        "GSVM.get_params"
      ]
    },
    {
      "cell_type": "code",
      "execution_count": 25,
      "id": "1cca03b4",
      "metadata": {
        "colab": {
          "base_uri": "https://localhost:8080/"
        },
        "id": "1cca03b4",
        "outputId": "d258e854-5510-426a-d639-029f481b955e"
      },
      "outputs": [
        {
          "output_type": "execute_result",
          "data": {
            "text/plain": [
              "{'C': 1, 'kernel': 'linear'}"
            ]
          },
          "metadata": {},
          "execution_count": 25
        }
      ],
      "source": [
        "GSVM.best_params_"
      ]
    },
    {
      "cell_type": "code",
      "execution_count": 26,
      "id": "a7149088",
      "metadata": {
        "colab": {
          "base_uri": "https://localhost:8080/"
        },
        "id": "a7149088",
        "outputId": "c34c0bfc-a3cb-4a7e-8409-8eaecd99617d"
      },
      "outputs": [
        {
          "output_type": "execute_result",
          "data": {
            "text/plain": [
              "0.839376297848099"
            ]
          },
          "metadata": {},
          "execution_count": 26
        }
      ],
      "source": [
        "GSVM.best_score_"
      ]
    },
    {
      "cell_type": "code",
      "execution_count": 27,
      "id": "41e1a743",
      "metadata": {
        "colab": {
          "base_uri": "https://localhost:8080/"
        },
        "id": "41e1a743",
        "outputId": "d4ab8c41-dde1-42a3-e075-d8071309f9e9"
      },
      "outputs": [
        {
          "output_type": "stream",
          "name": "stdout",
          "text": [
            "[LibSVM]"
          ]
        }
      ],
      "source": [
        "Best_svm = SVC(kernel='linear', C=1, verbose=10, random_state=1414)\n",
        "Best_svm = Best_svm.fit(xtrain, ytrain)\n",
        "ypred = Best_svm.predict(xtest)\n",
        "ypred"
      ]
    },
    {
      "cell_type": "markdown",
      "id": "9d9f030c",
      "metadata": {
        "id": "9d9f030c"
      },
      "source": [
        "# Evaluation"
      ]
    },
    {
      "cell_type": "code",
      "execution_count": 29,
      "id": "7df80261",
      "metadata": {
        "colab": {
          "base_uri": "https://localhost:8080/"
        },
        "id": "7df80261",
        "outputId": "2b283971-337e-4f98-80b4-1b757cb260d1"
      },
      "outputs": [
        {
          "output_type": "stream",
          "name": "stdout",
          "text": [
            "              precision    recall  f1-score   support\n",
            "\n",
            "           0       0.82      0.90      0.86       234\n",
            "           1       0.68      0.65      0.67       260\n",
            "           2       0.80      0.83      0.81       236\n",
            "           3       0.85      0.95      0.89       256\n",
            "           4       0.90      0.93      0.92       249\n",
            "           5       0.80      0.77      0.78       252\n",
            "           6       0.84      0.73      0.78       247\n",
            "           7       0.87      0.85      0.86       256\n",
            "           8       0.89      0.88      0.88       241\n",
            "           9       0.96      0.91      0.93       269\n",
            "          10       0.95      0.96      0.96       250\n",
            "\n",
            "    accuracy                           0.85      2750\n",
            "   macro avg       0.85      0.85      0.85      2750\n",
            "weighted avg       0.85      0.85      0.85      2750\n",
            "\n"
          ]
        }
      ],
      "source": [
        "print(classification_report(ytest, ypred))"
      ]
    },
    {
      "cell_type": "code",
      "execution_count": 30,
      "id": "0d0541fa",
      "metadata": {
        "colab": {
          "base_uri": "https://localhost:8080/"
        },
        "id": "0d0541fa",
        "outputId": "9eb14af6-d307-4ade-f1f9-f0183bb11a82"
      },
      "outputs": [
        {
          "output_type": "stream",
          "name": "stdout",
          "text": [
            "[[210   8   0   7   0   0   7   1   1   0   0]\n",
            " [ 14 170  18  10   5  11   7  13   4   2   6]\n",
            " [  1  19 195   0   1   9   5   3   1   2   0]\n",
            " [  2   4   2 242   0   0   6   0   0   0   0]\n",
            " [  1   4   1   0 232   6   1   1   2   1   0]\n",
            " [  3   7   6   4   9 195   5   5  15   2   1]\n",
            " [ 21   6   8  20   2   1 180   5   0   1   3]\n",
            " [  4  11   4   1   7   6   2 217   1   2   1]\n",
            " [  0   7   3   1   1  11   2   2 212   1   1]\n",
            " [  1   9   6   0   0   4   0   2   3 244   0]\n",
            " [  0   5   0   1   0   2   0   1   0   0 241]]\n"
          ]
        }
      ],
      "source": [
        "print(confusion_matrix(ytest, ypred))\n",
        "CMATRIX = confusion_matrix(ytest, ypred)"
      ]
    },
    {
      "cell_type": "code",
      "execution_count": 31,
      "id": "43ac0819",
      "metadata": {
        "colab": {
          "base_uri": "https://localhost:8080/",
          "height": 848
        },
        "id": "43ac0819",
        "outputId": "24c51c8b-9c92-4d9e-ae6d-f7bd46f27978"
      },
      "outputs": [
        {
          "output_type": "execute_result",
          "data": {
            "text/plain": [
              "<Axes: >"
            ]
          },
          "metadata": {},
          "execution_count": 31
        },
        {
          "output_type": "display_data",
          "data": {
            "text/plain": [
              "<Figure size 1000x1000 with 2 Axes>"
            ],
            "image/png": "[encoded data removed]"
          },
          "metadata": {}
        }
      ],
      "source": [
        "plt.figure(figsize=(10,10))\n",
        "sns.heatmap(CMATRIX, annot=True)"
      ]
    },
    {
      "cell_type": "markdown",
      "source": [
        "** Needless to say, TF-IDF vectorization is not best and efficient vectorizer we can use , but when you work with FARSI data this vectorizer can be satisfying.**"
      ],
      "metadata": {
        "id": "2ywvcRozcy7i"
      },
      "id": "2ywvcRozcy7i"
    }
  ],
  "metadata": {
    "kernelspec": {
      "display_name": "Python 3",
      "name": "python3"
    },
    "language_info": {
      "codemirror_mode": {
        "name": "ipython",
        "version": 3
      },
      "file_extension": ".py",
      "mimetype": "text/x-python",
      "name": "python",
      "nbconvert_exporter": "python",
      "pygments_lexer": "ipython3",
      "version": "3.10.9"
    },
    "colab": {
      "provenance": [],
      "gpuType": "T4"
    },
    "accelerator": "GPU"
  },
  "nbformat": 4,
  "nbformat_minor": 5
}